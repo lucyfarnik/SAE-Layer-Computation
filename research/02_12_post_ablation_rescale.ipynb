{
 "cells": [
  {
   "cell_type": "markdown",
   "metadata": {},
   "source": [
    "# How to fix the norm and keep things in-distribution after you ablate SAE features\n",
    "Whenever I ablate an SAE feature (particularly in attn_out and mlp_out), that messes up the norm and takes the model off-distribution.\n",
    "I want to spend a little bit of time doing large-scale experiments to figure out what a good way to deal with this is.\n",
    "\n",
    "## Distribution of LN scale factors\n",
    "First let's verify that my intuitions are actually correct here. What's the distribution of LN scale factors in general (ie on-distribution)?"
   ]
  },
  {
   "cell_type": "code",
   "execution_count": 4,
   "metadata": {},
   "outputs": [],
   "source": [
    "import plotly.graph_objects as go\n",
    "import plotly.express as px\n",
    "from plotly.subplots import make_subplots\n",
    "from transformer_lens import HookedTransformer\n",
    "from transformer_lens.utils import get_act_name\n",
    "import torch\n",
    "from torch.utils.data import DataLoader\n",
    "import ipywidgets as widgets\n",
    "from IPython.display import display\n",
    "from datasets import load_dataset\n",
    "from tqdm import tqdm\n",
    "from functools import partial\n",
    "import pandas as pd\n",
    "import lucys_utils as lu"
   ]
  },
  {
   "cell_type": "code",
   "execution_count": 5,
   "metadata": {},
   "outputs": [
    {
     "name": "stdout",
     "output_type": "stream",
     "text": [
      "Loaded pretrained model gelu-1l into HookedTransformer\n"
     ]
    }
   ],
   "source": [
    "model = HookedTransformer.from_pretrained(\"gelu-1l\")\n",
    "saes = lu.load_saes(\"../weights/saes32/final_sparse_autoencoder_gelu-1l_blocks.0.hook_HOOK_GOES_HERE_16384.pt\")"
   ]
  },
  {
   "cell_type": "code",
   "execution_count": null,
   "metadata": {},
   "outputs": [],
   "source": [
    "def get_ln_scales(model, n_tokens=10_000):\n",
    "    dataloader = lu.gib_tokens(n_tokens=n_tokens, dataloader=True)\n",
    "    \n",
    "    ln_scales = {}\n",
    "    for batch in tqdm(dataloader):\n",
    "        _, cache = model.run_with_cache(batch, names_filter=lambda x: 'scale' in x)\n",
    "        for key in cache.keys():\n",
    "            if key not in ln_scales:\n",
    "                ln_scales[key] = []\n",
    "            ln_scales[key].append(cache[key].squeeze().cpu())\n",
    "    ln_scales = {k: torch.cat(v).reshape(-1) for k, v in ln_scales.items()}\n",
    "    return ln_scales\n",
    "ln_scales = get_ln_scales(model, n_tokens=100_000)\n",
    "\n",
    "fig = go.Figure()\n",
    "for key, values in ln_scales.items():\n",
    "    fig.add_trace(go.Histogram(x=values, histnorm='probability', name=key, opacity=0.5))\n",
    "fig.update_layout(barmode='overlay')\n",
    "fig.update_traces(opacity=0.75)\n",
    "fig.update_layout(title_text='Layer Normalization Scales (gelu-1l)', xaxis_title_text='Scale', yaxis_title_text='Probability')\n",
    "fig.show()\n",
    "del ln_scales"
   ]
  },
  {
   "cell_type": "code",
   "execution_count": null,
   "metadata": {},
   "outputs": [],
   "source": [
    "ln_scales = get_ln_scales(HookedTransformer.from_pretrained('gpt2-small'), n_tokens=1_000)\n",
    "# get the mean and std div for each layer\n",
    "ln_stats = {k: (v.mean().item(), v.std().item()) for k, v in ln_scales.items()}\n",
    "ln_stats = pd.DataFrame(ln_stats, index=['mean', 'std']).T\n",
    "ln_stats"
   ]
  },
  {
   "cell_type": "markdown",
   "metadata": {},
   "source": [
    "## What actually happens to norms when you do SAE feature ablation"
   ]
  },
  {
   "cell_type": "markdown",
   "metadata": {},
   "source": [
    "Let's start doing this by ablating features one-by-one in attn_out and seeing the impact this has on norms downstream.\n",
    "\n",
    "I'll start off with a single prompt, just to get a hang of what's going on, and then generalize from there. What I'm actually trying to figure out here basically \"when I ablate a small set of SAE features, what happens to the norms downstream\"?"
   ]
  },
  {
   "cell_type": "code",
   "execution_count": 6,
   "metadata": {},
   "outputs": [
    {
     "data": {
      "application/vnd.plotly.v1+json": {
       "config": {
        "plotlyServerURL": "https://plot.ly"
       },
       "data": [
        {
         "type": "bar",
         "x": [
          "Feature 1484",
          "Feature 3229",
          "Feature 3639",
          "Feature 3766",
          "Feature 3858",
          "Feature 3885",
          "Feature 4514",
          "Feature 4626",
          "Feature 5170",
          "Feature 5418",
          "Feature 6300",
          "Feature 6681",
          "Feature 7383",
          "Feature 7392",
          "Feature 7931",
          "Feature 8259",
          "Feature 8936",
          "Feature 9294",
          "Feature 10150",
          "Feature 12781",
          "Feature 13072",
          "Feature 14874",
          "Feature 15955"
         ],
         "y": [
          0.9151169061660767,
          0.1553327739238739,
          0.08102238178253174,
          0.5902522206306458,
          0.037456393241882324,
          0.11661797761917114,
          0.013781487941741943,
          0.010618329048156738,
          0.19701600074768066,
          0.10885143280029297,
          0.026359230279922485,
          0.0736398696899414,
          0.04055330157279968,
          0.3646339178085327,
          0.3238402009010315,
          0.12206265330314636,
          0.1831752359867096,
          0.7504302263259888,
          0.11829385161399841,
          0.2115306556224823,
          0.8160021305084229,
          0.4169931411743164,
          0.2204723358154297
         ]
        }
       ],
       "layout": {
        "template": {
         "data": {
          "bar": [
           {
            "error_x": {
             "color": "#2a3f5f"
            },
            "error_y": {
             "color": "#2a3f5f"
            },
            "marker": {
             "line": {
              "color": "#E5ECF6",
              "width": 0.5
             },
             "pattern": {
              "fillmode": "overlay",
              "size": 10,
              "solidity": 0.2
             }
            },
            "type": "bar"
           }
          ],
          "barpolar": [
           {
            "marker": {
             "line": {
              "color": "#E5ECF6",
              "width": 0.5
             },
             "pattern": {
              "fillmode": "overlay",
              "size": 10,
              "solidity": 0.2
             }
            },
            "type": "barpolar"
           }
          ],
          "carpet": [
           {
            "aaxis": {
             "endlinecolor": "#2a3f5f",
             "gridcolor": "white",
             "linecolor": "white",
             "minorgridcolor": "white",
             "startlinecolor": "#2a3f5f"
            },
            "baxis": {
             "endlinecolor": "#2a3f5f",
             "gridcolor": "white",
             "linecolor": "white",
             "minorgridcolor": "white",
             "startlinecolor": "#2a3f5f"
            },
            "type": "carpet"
           }
          ],
          "choropleth": [
           {
            "colorbar": {
             "outlinewidth": 0,
             "ticks": ""
            },
            "type": "choropleth"
           }
          ],
          "contour": [
           {
            "colorbar": {
             "outlinewidth": 0,
             "ticks": ""
            },
            "colorscale": [
             [
              0,
              "#0d0887"
             ],
             [
              0.1111111111111111,
              "#46039f"
             ],
             [
              0.2222222222222222,
              "#7201a8"
             ],
             [
              0.3333333333333333,
              "#9c179e"
             ],
             [
              0.4444444444444444,
              "#bd3786"
             ],
             [
              0.5555555555555556,
              "#d8576b"
             ],
             [
              0.6666666666666666,
              "#ed7953"
             ],
             [
              0.7777777777777778,
              "#fb9f3a"
             ],
             [
              0.8888888888888888,
              "#fdca26"
             ],
             [
              1,
              "#f0f921"
             ]
            ],
            "type": "contour"
           }
          ],
          "contourcarpet": [
           {
            "colorbar": {
             "outlinewidth": 0,
             "ticks": ""
            },
            "type": "contourcarpet"
           }
          ],
          "heatmap": [
           {
            "colorbar": {
             "outlinewidth": 0,
             "ticks": ""
            },
            "colorscale": [
             [
              0,
              "#0d0887"
             ],
             [
              0.1111111111111111,
              "#46039f"
             ],
             [
              0.2222222222222222,
              "#7201a8"
             ],
             [
              0.3333333333333333,
              "#9c179e"
             ],
             [
              0.4444444444444444,
              "#bd3786"
             ],
             [
              0.5555555555555556,
              "#d8576b"
             ],
             [
              0.6666666666666666,
              "#ed7953"
             ],
             [
              0.7777777777777778,
              "#fb9f3a"
             ],
             [
              0.8888888888888888,
              "#fdca26"
             ],
             [
              1,
              "#f0f921"
             ]
            ],
            "type": "heatmap"
           }
          ],
          "heatmapgl": [
           {
            "colorbar": {
             "outlinewidth": 0,
             "ticks": ""
            },
            "colorscale": [
             [
              0,
              "#0d0887"
             ],
             [
              0.1111111111111111,
              "#46039f"
             ],
             [
              0.2222222222222222,
              "#7201a8"
             ],
             [
              0.3333333333333333,
              "#9c179e"
             ],
             [
              0.4444444444444444,
              "#bd3786"
             ],
             [
              0.5555555555555556,
              "#d8576b"
             ],
             [
              0.6666666666666666,
              "#ed7953"
             ],
             [
              0.7777777777777778,
              "#fb9f3a"
             ],
             [
              0.8888888888888888,
              "#fdca26"
             ],
             [
              1,
              "#f0f921"
             ]
            ],
            "type": "heatmapgl"
           }
          ],
          "histogram": [
           {
            "marker": {
             "pattern": {
              "fillmode": "overlay",
              "size": 10,
              "solidity": 0.2
             }
            },
            "type": "histogram"
           }
          ],
          "histogram2d": [
           {
            "colorbar": {
             "outlinewidth": 0,
             "ticks": ""
            },
            "colorscale": [
             [
              0,
              "#0d0887"
             ],
             [
              0.1111111111111111,
              "#46039f"
             ],
             [
              0.2222222222222222,
              "#7201a8"
             ],
             [
              0.3333333333333333,
              "#9c179e"
             ],
             [
              0.4444444444444444,
              "#bd3786"
             ],
             [
              0.5555555555555556,
              "#d8576b"
             ],
             [
              0.6666666666666666,
              "#ed7953"
             ],
             [
              0.7777777777777778,
              "#fb9f3a"
             ],
             [
              0.8888888888888888,
              "#fdca26"
             ],
             [
              1,
              "#f0f921"
             ]
            ],
            "type": "histogram2d"
           }
          ],
          "histogram2dcontour": [
           {
            "colorbar": {
             "outlinewidth": 0,
             "ticks": ""
            },
            "colorscale": [
             [
              0,
              "#0d0887"
             ],
             [
              0.1111111111111111,
              "#46039f"
             ],
             [
              0.2222222222222222,
              "#7201a8"
             ],
             [
              0.3333333333333333,
              "#9c179e"
             ],
             [
              0.4444444444444444,
              "#bd3786"
             ],
             [
              0.5555555555555556,
              "#d8576b"
             ],
             [
              0.6666666666666666,
              "#ed7953"
             ],
             [
              0.7777777777777778,
              "#fb9f3a"
             ],
             [
              0.8888888888888888,
              "#fdca26"
             ],
             [
              1,
              "#f0f921"
             ]
            ],
            "type": "histogram2dcontour"
           }
          ],
          "mesh3d": [
           {
            "colorbar": {
             "outlinewidth": 0,
             "ticks": ""
            },
            "type": "mesh3d"
           }
          ],
          "parcoords": [
           {
            "line": {
             "colorbar": {
              "outlinewidth": 0,
              "ticks": ""
             }
            },
            "type": "parcoords"
           }
          ],
          "pie": [
           {
            "automargin": true,
            "type": "pie"
           }
          ],
          "scatter": [
           {
            "fillpattern": {
             "fillmode": "overlay",
             "size": 10,
             "solidity": 0.2
            },
            "type": "scatter"
           }
          ],
          "scatter3d": [
           {
            "line": {
             "colorbar": {
              "outlinewidth": 0,
              "ticks": ""
             }
            },
            "marker": {
             "colorbar": {
              "outlinewidth": 0,
              "ticks": ""
             }
            },
            "type": "scatter3d"
           }
          ],
          "scattercarpet": [
           {
            "marker": {
             "colorbar": {
              "outlinewidth": 0,
              "ticks": ""
             }
            },
            "type": "scattercarpet"
           }
          ],
          "scattergeo": [
           {
            "marker": {
             "colorbar": {
              "outlinewidth": 0,
              "ticks": ""
             }
            },
            "type": "scattergeo"
           }
          ],
          "scattergl": [
           {
            "marker": {
             "colorbar": {
              "outlinewidth": 0,
              "ticks": ""
             }
            },
            "type": "scattergl"
           }
          ],
          "scattermapbox": [
           {
            "marker": {
             "colorbar": {
              "outlinewidth": 0,
              "ticks": ""
             }
            },
            "type": "scattermapbox"
           }
          ],
          "scatterpolar": [
           {
            "marker": {
             "colorbar": {
              "outlinewidth": 0,
              "ticks": ""
             }
            },
            "type": "scatterpolar"
           }
          ],
          "scatterpolargl": [
           {
            "marker": {
             "colorbar": {
              "outlinewidth": 0,
              "ticks": ""
             }
            },
            "type": "scatterpolargl"
           }
          ],
          "scatterternary": [
           {
            "marker": {
             "colorbar": {
              "outlinewidth": 0,
              "ticks": ""
             }
            },
            "type": "scatterternary"
           }
          ],
          "surface": [
           {
            "colorbar": {
             "outlinewidth": 0,
             "ticks": ""
            },
            "colorscale": [
             [
              0,
              "#0d0887"
             ],
             [
              0.1111111111111111,
              "#46039f"
             ],
             [
              0.2222222222222222,
              "#7201a8"
             ],
             [
              0.3333333333333333,
              "#9c179e"
             ],
             [
              0.4444444444444444,
              "#bd3786"
             ],
             [
              0.5555555555555556,
              "#d8576b"
             ],
             [
              0.6666666666666666,
              "#ed7953"
             ],
             [
              0.7777777777777778,
              "#fb9f3a"
             ],
             [
              0.8888888888888888,
              "#fdca26"
             ],
             [
              1,
              "#f0f921"
             ]
            ],
            "type": "surface"
           }
          ],
          "table": [
           {
            "cells": {
             "fill": {
              "color": "#EBF0F8"
             },
             "line": {
              "color": "white"
             }
            },
            "header": {
             "fill": {
              "color": "#C8D4E3"
             },
             "line": {
              "color": "white"
             }
            },
            "type": "table"
           }
          ]
         },
         "layout": {
          "annotationdefaults": {
           "arrowcolor": "#2a3f5f",
           "arrowhead": 0,
           "arrowwidth": 1
          },
          "autotypenumbers": "strict",
          "coloraxis": {
           "colorbar": {
            "outlinewidth": 0,
            "ticks": ""
           }
          },
          "colorscale": {
           "diverging": [
            [
             0,
             "#8e0152"
            ],
            [
             0.1,
             "#c51b7d"
            ],
            [
             0.2,
             "#de77ae"
            ],
            [
             0.3,
             "#f1b6da"
            ],
            [
             0.4,
             "#fde0ef"
            ],
            [
             0.5,
             "#f7f7f7"
            ],
            [
             0.6,
             "#e6f5d0"
            ],
            [
             0.7,
             "#b8e186"
            ],
            [
             0.8,
             "#7fbc41"
            ],
            [
             0.9,
             "#4d9221"
            ],
            [
             1,
             "#276419"
            ]
           ],
           "sequential": [
            [
             0,
             "#0d0887"
            ],
            [
             0.1111111111111111,
             "#46039f"
            ],
            [
             0.2222222222222222,
             "#7201a8"
            ],
            [
             0.3333333333333333,
             "#9c179e"
            ],
            [
             0.4444444444444444,
             "#bd3786"
            ],
            [
             0.5555555555555556,
             "#d8576b"
            ],
            [
             0.6666666666666666,
             "#ed7953"
            ],
            [
             0.7777777777777778,
             "#fb9f3a"
            ],
            [
             0.8888888888888888,
             "#fdca26"
            ],
            [
             1,
             "#f0f921"
            ]
           ],
           "sequentialminus": [
            [
             0,
             "#0d0887"
            ],
            [
             0.1111111111111111,
             "#46039f"
            ],
            [
             0.2222222222222222,
             "#7201a8"
            ],
            [
             0.3333333333333333,
             "#9c179e"
            ],
            [
             0.4444444444444444,
             "#bd3786"
            ],
            [
             0.5555555555555556,
             "#d8576b"
            ],
            [
             0.6666666666666666,
             "#ed7953"
            ],
            [
             0.7777777777777778,
             "#fb9f3a"
            ],
            [
             0.8888888888888888,
             "#fdca26"
            ],
            [
             1,
             "#f0f921"
            ]
           ]
          },
          "colorway": [
           "#636efa",
           "#EF553B",
           "#00cc96",
           "#ab63fa",
           "#FFA15A",
           "#19d3f3",
           "#FF6692",
           "#B6E880",
           "#FF97FF",
           "#FECB52"
          ],
          "font": {
           "color": "#2a3f5f"
          },
          "geo": {
           "bgcolor": "white",
           "lakecolor": "white",
           "landcolor": "#E5ECF6",
           "showlakes": true,
           "showland": true,
           "subunitcolor": "white"
          },
          "hoverlabel": {
           "align": "left"
          },
          "hovermode": "closest",
          "mapbox": {
           "style": "light"
          },
          "paper_bgcolor": "white",
          "plot_bgcolor": "#E5ECF6",
          "polar": {
           "angularaxis": {
            "gridcolor": "white",
            "linecolor": "white",
            "ticks": ""
           },
           "bgcolor": "#E5ECF6",
           "radialaxis": {
            "gridcolor": "white",
            "linecolor": "white",
            "ticks": ""
           }
          },
          "scene": {
           "xaxis": {
            "backgroundcolor": "#E5ECF6",
            "gridcolor": "white",
            "gridwidth": 2,
            "linecolor": "white",
            "showbackground": true,
            "ticks": "",
            "zerolinecolor": "white"
           },
           "yaxis": {
            "backgroundcolor": "#E5ECF6",
            "gridcolor": "white",
            "gridwidth": 2,
            "linecolor": "white",
            "showbackground": true,
            "ticks": "",
            "zerolinecolor": "white"
           },
           "zaxis": {
            "backgroundcolor": "#E5ECF6",
            "gridcolor": "white",
            "gridwidth": 2,
            "linecolor": "white",
            "showbackground": true,
            "ticks": "",
            "zerolinecolor": "white"
           }
          },
          "shapedefaults": {
           "line": {
            "color": "#2a3f5f"
           }
          },
          "ternary": {
           "aaxis": {
            "gridcolor": "white",
            "linecolor": "white",
            "ticks": ""
           },
           "baxis": {
            "gridcolor": "white",
            "linecolor": "white",
            "ticks": ""
           },
           "bgcolor": "#E5ECF6",
           "caxis": {
            "gridcolor": "white",
            "linecolor": "white",
            "ticks": ""
           }
          },
          "title": {
           "x": 0.05
          },
          "xaxis": {
           "automargin": true,
           "gridcolor": "white",
           "linecolor": "white",
           "ticks": "",
           "title": {
            "standoff": 15
           },
           "zerolinecolor": "white",
           "zerolinewidth": 2
          },
          "yaxis": {
           "automargin": true,
           "gridcolor": "white",
           "linecolor": "white",
           "ticks": "",
           "title": {
            "standoff": 15
           },
           "zerolinecolor": "white",
           "zerolinewidth": 2
          }
         }
        },
        "title": {
         "text": "Activation Strength of Attention SAE Features"
        },
        "xaxis": {
         "title": {
          "text": "Feature"
         }
        },
        "yaxis": {
         "title": {
          "text": "Activation Strength"
         }
        }
       }
      }
     },
     "metadata": {},
     "output_type": "display_data"
    },
    {
     "name": "stdout",
     "output_type": "stream",
     "text": [
      "Features to ablate: [1484, 3229, 3639, 3766, 3858, 3885, 4514]\n"
     ]
    },
    {
     "data": {
      "application/vnd.plotly.v1+json": {
       "config": {
        "plotlyServerURL": "https://plot.ly"
       },
       "data": [
        {
         "colorbar": {
          "title": {
           "text": "Relative<br>Difference"
          }
         },
         "colorscale": [
          [
           0,
           "rgb(103,0,31)"
          ],
          [
           0.1,
           "rgb(178,24,43)"
          ],
          [
           0.2,
           "rgb(214,96,77)"
          ],
          [
           0.3,
           "rgb(244,165,130)"
          ],
          [
           0.4,
           "rgb(253,219,199)"
          ],
          [
           0.5,
           "rgb(247,247,247)"
          ],
          [
           0.6,
           "rgb(209,229,240)"
          ],
          [
           0.7,
           "rgb(146,197,222)"
          ],
          [
           0.8,
           "rgb(67,147,195)"
          ],
          [
           0.9,
           "rgb(33,102,172)"
          ],
          [
           1,
           "rgb(5,48,97)"
          ]
         ],
         "hoverinfo": "text",
         "text": [
          [
           "Layer: blocks.0.hook_resid_pre<br><br>Clean: 6.166<br>Corrupted: 6.166<br>Difference: 0.000<br>Ratio: 1.000",
           "Layer: blocks.0.hook_resid_pre<br><br>Clean: 5.597<br>Corrupted: 5.597<br>Difference: 0.000<br>Ratio: 1.000",
           "Layer: blocks.0.hook_resid_pre<br><br>Clean: 5.368<br>Corrupted: 5.368<br>Difference: 0.000<br>Ratio: 1.000",
           "Layer: blocks.0.hook_resid_pre<br><br>Clean: 5.325<br>Corrupted: 5.325<br>Difference: 0.000<br>Ratio: 1.000",
           "Layer: blocks.0.hook_resid_pre<br><br>Clean: 5.057<br>Corrupted: 5.057<br>Difference: 0.000<br>Ratio: 1.000",
           "Layer: blocks.0.hook_resid_pre<br><br>Clean: 5.185<br>Corrupted: 5.185<br>Difference: 0.000<br>Ratio: 1.000",
           "Layer: blocks.0.hook_resid_pre<br><br>Clean: 5.114<br>Corrupted: 5.114<br>Difference: 0.000<br>Ratio: 1.000",
           "Layer: blocks.0.hook_resid_pre<br><br>Clean: 4.842<br>Corrupted: 4.842<br>Difference: 0.000<br>Ratio: 1.000",
           "Layer: blocks.0.hook_resid_pre<br><br>Clean: 4.986<br>Corrupted: 4.986<br>Difference: 0.000<br>Ratio: 1.000",
           "Layer: blocks.0.hook_resid_pre<br><br>Clean: 4.762<br>Corrupted: 4.762<br>Difference: 0.000<br>Ratio: 1.000"
          ],
          [
           "Layer: blocks.0.ln1.hook_scale<br><br>Clean: 0.273<br>Corrupted: 0.273<br>Difference: 0.000<br>Ratio: 1.000",
           "Layer: blocks.0.ln1.hook_scale<br><br>Clean: 0.247<br>Corrupted: 0.247<br>Difference: 0.000<br>Ratio: 1.000",
           "Layer: blocks.0.ln1.hook_scale<br><br>Clean: 0.237<br>Corrupted: 0.237<br>Difference: 0.000<br>Ratio: 1.000",
           "Layer: blocks.0.ln1.hook_scale<br><br>Clean: 0.235<br>Corrupted: 0.235<br>Difference: 0.000<br>Ratio: 1.000",
           "Layer: blocks.0.ln1.hook_scale<br><br>Clean: 0.224<br>Corrupted: 0.224<br>Difference: 0.000<br>Ratio: 1.000",
           "Layer: blocks.0.ln1.hook_scale<br><br>Clean: 0.229<br>Corrupted: 0.229<br>Difference: 0.000<br>Ratio: 1.000",
           "Layer: blocks.0.ln1.hook_scale<br><br>Clean: 0.226<br>Corrupted: 0.226<br>Difference: 0.000<br>Ratio: 1.000",
           "Layer: blocks.0.ln1.hook_scale<br><br>Clean: 0.214<br>Corrupted: 0.214<br>Difference: 0.000<br>Ratio: 1.000",
           "Layer: blocks.0.ln1.hook_scale<br><br>Clean: 0.220<br>Corrupted: 0.220<br>Difference: 0.000<br>Ratio: 1.000",
           "Layer: blocks.0.ln1.hook_scale<br><br>Clean: 0.210<br>Corrupted: 0.210<br>Difference: 0.000<br>Ratio: 1.000"
          ],
          [
           "Layer: blocks.0.ln1.hook_normalized<br><br>Clean: 22.626<br>Corrupted: 22.626<br>Difference: 0.000<br>Ratio: 1.000",
           "Layer: blocks.0.ln1.hook_normalized<br><br>Clean: 22.626<br>Corrupted: 22.626<br>Difference: 0.000<br>Ratio: 1.000",
           "Layer: blocks.0.ln1.hook_normalized<br><br>Clean: 22.625<br>Corrupted: 22.625<br>Difference: 0.000<br>Ratio: 1.000",
           "Layer: blocks.0.ln1.hook_normalized<br><br>Clean: 22.625<br>Corrupted: 22.625<br>Difference: 0.000<br>Ratio: 1.000",
           "Layer: blocks.0.ln1.hook_normalized<br><br>Clean: 22.625<br>Corrupted: 22.625<br>Difference: 0.000<br>Ratio: 1.000",
           "Layer: blocks.0.ln1.hook_normalized<br><br>Clean: 22.625<br>Corrupted: 22.625<br>Difference: 0.000<br>Ratio: 1.000",
           "Layer: blocks.0.ln1.hook_normalized<br><br>Clean: 22.625<br>Corrupted: 22.625<br>Difference: 0.000<br>Ratio: 1.000",
           "Layer: blocks.0.ln1.hook_normalized<br><br>Clean: 22.625<br>Corrupted: 22.625<br>Difference: 0.000<br>Ratio: 1.000",
           "Layer: blocks.0.ln1.hook_normalized<br><br>Clean: 22.625<br>Corrupted: 22.625<br>Difference: 0.000<br>Ratio: 1.000",
           "Layer: blocks.0.ln1.hook_normalized<br><br>Clean: 22.625<br>Corrupted: 22.625<br>Difference: 0.000<br>Ratio: 1.000"
          ],
          [
           "Layer: blocks.0.hook_attn_out<br><br>Clean: 5.965<br>Corrupted: 5.965<br>Difference: 0.000<br>Ratio: 1.000",
           "Layer: blocks.0.hook_attn_out<br><br>Clean: 6.004<br>Corrupted: 6.004<br>Difference: 0.000<br>Ratio: 1.000",
           "Layer: blocks.0.hook_attn_out<br><br>Clean: 6.495<br>Corrupted: 6.495<br>Difference: 0.000<br>Ratio: 1.000",
           "Layer: blocks.0.hook_attn_out<br><br>Clean: 6.126<br>Corrupted: 6.126<br>Difference: 0.000<br>Ratio: 1.000",
           "Layer: blocks.0.hook_attn_out<br><br>Clean: 6.392<br>Corrupted: 6.392<br>Difference: 0.000<br>Ratio: 1.000",
           "Layer: blocks.0.hook_attn_out<br><br>Clean: 6.960<br>Corrupted: 6.960<br>Difference: 0.000<br>Ratio: 1.000",
           "Layer: blocks.0.hook_attn_out<br><br>Clean: 7.335<br>Corrupted: 7.335<br>Difference: 0.000<br>Ratio: 1.000",
           "Layer: blocks.0.hook_attn_out<br><br>Clean: 8.352<br>Corrupted: 8.352<br>Difference: 0.000<br>Ratio: 1.000",
           "Layer: blocks.0.hook_attn_out<br><br>Clean: 7.758<br>Corrupted: 7.758<br>Difference: 0.000<br>Ratio: 1.000",
           "Layer: blocks.0.hook_attn_out<br><br>Clean: 7.911<br>Corrupted: 7.073<br>Difference: -0.839<br>Ratio: 0.894"
          ],
          [
           "Layer: blocks.0.hook_resid_mid<br><br>Clean: 8.997<br>Corrupted: 8.997<br>Difference: 0.000<br>Ratio: 1.000",
           "Layer: blocks.0.hook_resid_mid<br><br>Clean: 8.210<br>Corrupted: 8.210<br>Difference: 0.000<br>Ratio: 1.000",
           "Layer: blocks.0.hook_resid_mid<br><br>Clean: 8.387<br>Corrupted: 8.387<br>Difference: 0.000<br>Ratio: 1.000",
           "Layer: blocks.0.hook_resid_mid<br><br>Clean: 7.979<br>Corrupted: 7.979<br>Difference: 0.000<br>Ratio: 1.000",
           "Layer: blocks.0.hook_resid_mid<br><br>Clean: 8.368<br>Corrupted: 8.368<br>Difference: 0.000<br>Ratio: 1.000",
           "Layer: blocks.0.hook_resid_mid<br><br>Clean: 8.548<br>Corrupted: 8.548<br>Difference: 0.000<br>Ratio: 1.000",
           "Layer: blocks.0.hook_resid_mid<br><br>Clean: 8.482<br>Corrupted: 8.482<br>Difference: 0.000<br>Ratio: 1.000",
           "Layer: blocks.0.hook_resid_mid<br><br>Clean: 9.082<br>Corrupted: 9.082<br>Difference: 0.000<br>Ratio: 1.000",
           "Layer: blocks.0.hook_resid_mid<br><br>Clean: 8.979<br>Corrupted: 8.979<br>Difference: 0.000<br>Ratio: 1.000",
           "Layer: blocks.0.hook_resid_mid<br><br>Clean: 9.285<br>Corrupted: 8.380<br>Difference: -0.905<br>Ratio: 0.903"
          ],
          [
           "Layer: blocks.0.ln2.hook_scale<br><br>Clean: 0.398<br>Corrupted: 0.398<br>Difference: 0.000<br>Ratio: 1.000",
           "Layer: blocks.0.ln2.hook_scale<br><br>Clean: 0.363<br>Corrupted: 0.363<br>Difference: 0.000<br>Ratio: 1.000",
           "Layer: blocks.0.ln2.hook_scale<br><br>Clean: 0.371<br>Corrupted: 0.371<br>Difference: 0.000<br>Ratio: 1.000",
           "Layer: blocks.0.ln2.hook_scale<br><br>Clean: 0.353<br>Corrupted: 0.353<br>Difference: 0.000<br>Ratio: 1.000",
           "Layer: blocks.0.ln2.hook_scale<br><br>Clean: 0.370<br>Corrupted: 0.370<br>Difference: 0.000<br>Ratio: 1.000",
           "Layer: blocks.0.ln2.hook_scale<br><br>Clean: 0.378<br>Corrupted: 0.378<br>Difference: 0.000<br>Ratio: 1.000",
           "Layer: blocks.0.ln2.hook_scale<br><br>Clean: 0.375<br>Corrupted: 0.375<br>Difference: 0.000<br>Ratio: 1.000",
           "Layer: blocks.0.ln2.hook_scale<br><br>Clean: 0.401<br>Corrupted: 0.401<br>Difference: 0.000<br>Ratio: 1.000",
           "Layer: blocks.0.ln2.hook_scale<br><br>Clean: 0.397<br>Corrupted: 0.397<br>Difference: 0.000<br>Ratio: 1.000",
           "Layer: blocks.0.ln2.hook_scale<br><br>Clean: 0.410<br>Corrupted: 0.370<br>Difference: -0.040<br>Ratio: 0.903"
          ],
          [
           "Layer: blocks.0.ln2.hook_normalized<br><br>Clean: 22.627<br>Corrupted: 22.627<br>Difference: 0.000<br>Ratio: 1.000",
           "Layer: blocks.0.ln2.hook_normalized<br><br>Clean: 22.627<br>Corrupted: 22.627<br>Difference: 0.000<br>Ratio: 1.000",
           "Layer: blocks.0.ln2.hook_normalized<br><br>Clean: 22.627<br>Corrupted: 22.627<br>Difference: 0.000<br>Ratio: 1.000",
           "Layer: blocks.0.ln2.hook_normalized<br><br>Clean: 22.627<br>Corrupted: 22.627<br>Difference: 0.000<br>Ratio: 1.000",
           "Layer: blocks.0.ln2.hook_normalized<br><br>Clean: 22.627<br>Corrupted: 22.627<br>Difference: 0.000<br>Ratio: 1.000",
           "Layer: blocks.0.ln2.hook_normalized<br><br>Clean: 22.627<br>Corrupted: 22.627<br>Difference: 0.000<br>Ratio: 1.000",
           "Layer: blocks.0.ln2.hook_normalized<br><br>Clean: 22.627<br>Corrupted: 22.627<br>Difference: 0.000<br>Ratio: 1.000",
           "Layer: blocks.0.ln2.hook_normalized<br><br>Clean: 22.627<br>Corrupted: 22.627<br>Difference: 0.000<br>Ratio: 1.000",
           "Layer: blocks.0.ln2.hook_normalized<br><br>Clean: 22.627<br>Corrupted: 22.627<br>Difference: 0.000<br>Ratio: 1.000",
           "Layer: blocks.0.ln2.hook_normalized<br><br>Clean: 22.627<br>Corrupted: 22.627<br>Difference: -0.000<br>Ratio: 1.000"
          ],
          [
           "Layer: blocks.0.hook_mlp_out<br><br>Clean: 48.616<br>Corrupted: 48.616<br>Difference: 0.000<br>Ratio: 1.000",
           "Layer: blocks.0.hook_mlp_out<br><br>Clean: 34.258<br>Corrupted: 34.258<br>Difference: 0.000<br>Ratio: 1.000",
           "Layer: blocks.0.hook_mlp_out<br><br>Clean: 27.365<br>Corrupted: 27.365<br>Difference: 0.000<br>Ratio: 1.000",
           "Layer: blocks.0.hook_mlp_out<br><br>Clean: 26.503<br>Corrupted: 26.503<br>Difference: 0.000<br>Ratio: 1.000",
           "Layer: blocks.0.hook_mlp_out<br><br>Clean: 28.925<br>Corrupted: 28.925<br>Difference: 0.000<br>Ratio: 1.000",
           "Layer: blocks.0.hook_mlp_out<br><br>Clean: 25.463<br>Corrupted: 25.463<br>Difference: 0.000<br>Ratio: 1.000",
           "Layer: blocks.0.hook_mlp_out<br><br>Clean: 27.853<br>Corrupted: 27.853<br>Difference: 0.000<br>Ratio: 1.000",
           "Layer: blocks.0.hook_mlp_out<br><br>Clean: 25.184<br>Corrupted: 25.184<br>Difference: 0.000<br>Ratio: 1.000",
           "Layer: blocks.0.hook_mlp_out<br><br>Clean: 27.993<br>Corrupted: 27.993<br>Difference: 0.000<br>Ratio: 1.000",
           "Layer: blocks.0.hook_mlp_out<br><br>Clean: 27.270<br>Corrupted: 25.811<br>Difference: -1.459<br>Ratio: 0.946"
          ],
          [
           "Layer: blocks.0.hook_resid_post<br><br>Clean: 48.534<br>Corrupted: 48.534<br>Difference: 0.000<br>Ratio: 1.000",
           "Layer: blocks.0.hook_resid_post<br><br>Clean: 33.909<br>Corrupted: 33.909<br>Difference: 0.000<br>Ratio: 1.000",
           "Layer: blocks.0.hook_resid_post<br><br>Clean: 27.204<br>Corrupted: 27.204<br>Difference: 0.000<br>Ratio: 1.000",
           "Layer: blocks.0.hook_resid_post<br><br>Clean: 26.852<br>Corrupted: 26.852<br>Difference: 0.000<br>Ratio: 1.000",
           "Layer: blocks.0.hook_resid_post<br><br>Clean: 29.423<br>Corrupted: 29.423<br>Difference: 0.000<br>Ratio: 1.000",
           "Layer: blocks.0.hook_resid_post<br><br>Clean: 25.517<br>Corrupted: 25.517<br>Difference: 0.000<br>Ratio: 1.000",
           "Layer: blocks.0.hook_resid_post<br><br>Clean: 28.090<br>Corrupted: 28.090<br>Difference: 0.000<br>Ratio: 1.000",
           "Layer: blocks.0.hook_resid_post<br><br>Clean: 25.128<br>Corrupted: 25.128<br>Difference: 0.000<br>Ratio: 1.000",
           "Layer: blocks.0.hook_resid_post<br><br>Clean: 27.820<br>Corrupted: 27.820<br>Difference: 0.000<br>Ratio: 1.000",
           "Layer: blocks.0.hook_resid_post<br><br>Clean: 28.031<br>Corrupted: 26.192<br>Difference: -1.838<br>Ratio: 0.934"
          ],
          [
           "Layer: ln_final.hook_scale<br><br>Clean: 2.145<br>Corrupted: 2.145<br>Difference: 0.000<br>Ratio: 1.000",
           "Layer: ln_final.hook_scale<br><br>Clean: 1.499<br>Corrupted: 1.499<br>Difference: 0.000<br>Ratio: 1.000",
           "Layer: ln_final.hook_scale<br><br>Clean: 1.202<br>Corrupted: 1.202<br>Difference: 0.000<br>Ratio: 1.000",
           "Layer: ln_final.hook_scale<br><br>Clean: 1.187<br>Corrupted: 1.187<br>Difference: 0.000<br>Ratio: 1.000",
           "Layer: ln_final.hook_scale<br><br>Clean: 1.300<br>Corrupted: 1.300<br>Difference: 0.000<br>Ratio: 1.000",
           "Layer: ln_final.hook_scale<br><br>Clean: 1.128<br>Corrupted: 1.128<br>Difference: 0.000<br>Ratio: 1.000",
           "Layer: ln_final.hook_scale<br><br>Clean: 1.241<br>Corrupted: 1.241<br>Difference: 0.000<br>Ratio: 1.000",
           "Layer: ln_final.hook_scale<br><br>Clean: 1.111<br>Corrupted: 1.111<br>Difference: 0.000<br>Ratio: 1.000",
           "Layer: ln_final.hook_scale<br><br>Clean: 1.229<br>Corrupted: 1.229<br>Difference: 0.000<br>Ratio: 1.000",
           "Layer: ln_final.hook_scale<br><br>Clean: 1.239<br>Corrupted: 1.158<br>Difference: -0.081<br>Ratio: 0.934"
          ],
          [
           "Layer: ln_final.hook_normalized<br><br>Clean: 22.627<br>Corrupted: 22.627<br>Difference: 0.000<br>Ratio: 1.000",
           "Layer: ln_final.hook_normalized<br><br>Clean: 22.627<br>Corrupted: 22.627<br>Difference: 0.000<br>Ratio: 1.000",
           "Layer: ln_final.hook_normalized<br><br>Clean: 22.627<br>Corrupted: 22.627<br>Difference: 0.000<br>Ratio: 1.000",
           "Layer: ln_final.hook_normalized<br><br>Clean: 22.627<br>Corrupted: 22.627<br>Difference: 0.000<br>Ratio: 1.000",
           "Layer: ln_final.hook_normalized<br><br>Clean: 22.627<br>Corrupted: 22.627<br>Difference: 0.000<br>Ratio: 1.000",
           "Layer: ln_final.hook_normalized<br><br>Clean: 22.627<br>Corrupted: 22.627<br>Difference: 0.000<br>Ratio: 1.000",
           "Layer: ln_final.hook_normalized<br><br>Clean: 22.627<br>Corrupted: 22.627<br>Difference: 0.000<br>Ratio: 1.000",
           "Layer: ln_final.hook_normalized<br><br>Clean: 22.627<br>Corrupted: 22.627<br>Difference: 0.000<br>Ratio: 1.000",
           "Layer: ln_final.hook_normalized<br><br>Clean: 22.627<br>Corrupted: 22.627<br>Difference: 0.000<br>Ratio: 1.000",
           "Layer: ln_final.hook_normalized<br><br>Clean: 22.627<br>Corrupted: 22.627<br>Difference: -0.000<br>Ratio: 1.000"
          ]
         ],
         "type": "heatmap",
         "x": [
          "0: \"<|BOS|>\"",
          "1: \"the\"",
          "2: \" quick\"",
          "3: \" brown\"",
          "4: \" fox\"",
          "5: \" jumps\"",
          "6: \" over\"",
          "7: \" the\"",
          "8: \" lazy\"",
          "9: \" dog\""
         ],
         "y": [
          "blocks.0.hook_resid_pre",
          "blocks.0.ln1.hook_scale",
          "blocks.0.ln1.hook_normalized",
          "blocks.0.hook_attn_out",
          "blocks.0.hook_resid_mid",
          "blocks.0.ln2.hook_scale",
          "blocks.0.ln2.hook_normalized",
          "blocks.0.hook_mlp_out",
          "blocks.0.hook_resid_post",
          "ln_final.hook_scale",
          "ln_final.hook_normalized"
         ],
         "z": [
          [
           0,
           0,
           0,
           0,
           0,
           0,
           0,
           0,
           0,
           0
          ],
          [
           0,
           0,
           0,
           0,
           0,
           0,
           0,
           0,
           0,
           0
          ],
          [
           0,
           0,
           0,
           0,
           0,
           0,
           0,
           0,
           0,
           0
          ],
          [
           0,
           0,
           0,
           0,
           0,
           0,
           0,
           0,
           0,
           -0.11194485425949097
          ],
          [
           0,
           0,
           0,
           0,
           0,
           0,
           0,
           0,
           0,
           -0.10242421925067902
          ],
          [
           0,
           0,
           0,
           0,
           0,
           0,
           0,
           0,
           0,
           -0.10241810977458954
          ],
          [
           0,
           0,
           0,
           0,
           0,
           0,
           0,
           0,
           0,
           -0.000006575125098606804
          ],
          [
           0,
           0,
           0,
           0,
           0,
           0,
           0,
           0,
           0,
           -0.05498257279396057
          ],
          [
           0,
           0,
           0,
           0,
           0,
           0,
           0,
           0,
           0,
           -0.06780601292848587
          ],
          [
           0,
           0,
           0,
           0,
           0,
           0,
           0,
           0,
           0,
           -0.06780560314655304
          ],
          [
           0,
           0,
           0,
           0,
           0,
           0,
           0,
           0,
           0,
           -5.057639214101073e-7
          ]
         ]
        }
       ],
       "layout": {
        "template": {
         "data": {
          "bar": [
           {
            "error_x": {
             "color": "#2a3f5f"
            },
            "error_y": {
             "color": "#2a3f5f"
            },
            "marker": {
             "line": {
              "color": "#E5ECF6",
              "width": 0.5
             },
             "pattern": {
              "fillmode": "overlay",
              "size": 10,
              "solidity": 0.2
             }
            },
            "type": "bar"
           }
          ],
          "barpolar": [
           {
            "marker": {
             "line": {
              "color": "#E5ECF6",
              "width": 0.5
             },
             "pattern": {
              "fillmode": "overlay",
              "size": 10,
              "solidity": 0.2
             }
            },
            "type": "barpolar"
           }
          ],
          "carpet": [
           {
            "aaxis": {
             "endlinecolor": "#2a3f5f",
             "gridcolor": "white",
             "linecolor": "white",
             "minorgridcolor": "white",
             "startlinecolor": "#2a3f5f"
            },
            "baxis": {
             "endlinecolor": "#2a3f5f",
             "gridcolor": "white",
             "linecolor": "white",
             "minorgridcolor": "white",
             "startlinecolor": "#2a3f5f"
            },
            "type": "carpet"
           }
          ],
          "choropleth": [
           {
            "colorbar": {
             "outlinewidth": 0,
             "ticks": ""
            },
            "type": "choropleth"
           }
          ],
          "contour": [
           {
            "colorbar": {
             "outlinewidth": 0,
             "ticks": ""
            },
            "colorscale": [
             [
              0,
              "#0d0887"
             ],
             [
              0.1111111111111111,
              "#46039f"
             ],
             [
              0.2222222222222222,
              "#7201a8"
             ],
             [
              0.3333333333333333,
              "#9c179e"
             ],
             [
              0.4444444444444444,
              "#bd3786"
             ],
             [
              0.5555555555555556,
              "#d8576b"
             ],
             [
              0.6666666666666666,
              "#ed7953"
             ],
             [
              0.7777777777777778,
              "#fb9f3a"
             ],
             [
              0.8888888888888888,
              "#fdca26"
             ],
             [
              1,
              "#f0f921"
             ]
            ],
            "type": "contour"
           }
          ],
          "contourcarpet": [
           {
            "colorbar": {
             "outlinewidth": 0,
             "ticks": ""
            },
            "type": "contourcarpet"
           }
          ],
          "heatmap": [
           {
            "colorbar": {
             "outlinewidth": 0,
             "ticks": ""
            },
            "colorscale": [
             [
              0,
              "#0d0887"
             ],
             [
              0.1111111111111111,
              "#46039f"
             ],
             [
              0.2222222222222222,
              "#7201a8"
             ],
             [
              0.3333333333333333,
              "#9c179e"
             ],
             [
              0.4444444444444444,
              "#bd3786"
             ],
             [
              0.5555555555555556,
              "#d8576b"
             ],
             [
              0.6666666666666666,
              "#ed7953"
             ],
             [
              0.7777777777777778,
              "#fb9f3a"
             ],
             [
              0.8888888888888888,
              "#fdca26"
             ],
             [
              1,
              "#f0f921"
             ]
            ],
            "type": "heatmap"
           }
          ],
          "heatmapgl": [
           {
            "colorbar": {
             "outlinewidth": 0,
             "ticks": ""
            },
            "colorscale": [
             [
              0,
              "#0d0887"
             ],
             [
              0.1111111111111111,
              "#46039f"
             ],
             [
              0.2222222222222222,
              "#7201a8"
             ],
             [
              0.3333333333333333,
              "#9c179e"
             ],
             [
              0.4444444444444444,
              "#bd3786"
             ],
             [
              0.5555555555555556,
              "#d8576b"
             ],
             [
              0.6666666666666666,
              "#ed7953"
             ],
             [
              0.7777777777777778,
              "#fb9f3a"
             ],
             [
              0.8888888888888888,
              "#fdca26"
             ],
             [
              1,
              "#f0f921"
             ]
            ],
            "type": "heatmapgl"
           }
          ],
          "histogram": [
           {
            "marker": {
             "pattern": {
              "fillmode": "overlay",
              "size": 10,
              "solidity": 0.2
             }
            },
            "type": "histogram"
           }
          ],
          "histogram2d": [
           {
            "colorbar": {
             "outlinewidth": 0,
             "ticks": ""
            },
            "colorscale": [
             [
              0,
              "#0d0887"
             ],
             [
              0.1111111111111111,
              "#46039f"
             ],
             [
              0.2222222222222222,
              "#7201a8"
             ],
             [
              0.3333333333333333,
              "#9c179e"
             ],
             [
              0.4444444444444444,
              "#bd3786"
             ],
             [
              0.5555555555555556,
              "#d8576b"
             ],
             [
              0.6666666666666666,
              "#ed7953"
             ],
             [
              0.7777777777777778,
              "#fb9f3a"
             ],
             [
              0.8888888888888888,
              "#fdca26"
             ],
             [
              1,
              "#f0f921"
             ]
            ],
            "type": "histogram2d"
           }
          ],
          "histogram2dcontour": [
           {
            "colorbar": {
             "outlinewidth": 0,
             "ticks": ""
            },
            "colorscale": [
             [
              0,
              "#0d0887"
             ],
             [
              0.1111111111111111,
              "#46039f"
             ],
             [
              0.2222222222222222,
              "#7201a8"
             ],
             [
              0.3333333333333333,
              "#9c179e"
             ],
             [
              0.4444444444444444,
              "#bd3786"
             ],
             [
              0.5555555555555556,
              "#d8576b"
             ],
             [
              0.6666666666666666,
              "#ed7953"
             ],
             [
              0.7777777777777778,
              "#fb9f3a"
             ],
             [
              0.8888888888888888,
              "#fdca26"
             ],
             [
              1,
              "#f0f921"
             ]
            ],
            "type": "histogram2dcontour"
           }
          ],
          "mesh3d": [
           {
            "colorbar": {
             "outlinewidth": 0,
             "ticks": ""
            },
            "type": "mesh3d"
           }
          ],
          "parcoords": [
           {
            "line": {
             "colorbar": {
              "outlinewidth": 0,
              "ticks": ""
             }
            },
            "type": "parcoords"
           }
          ],
          "pie": [
           {
            "automargin": true,
            "type": "pie"
           }
          ],
          "scatter": [
           {
            "fillpattern": {
             "fillmode": "overlay",
             "size": 10,
             "solidity": 0.2
            },
            "type": "scatter"
           }
          ],
          "scatter3d": [
           {
            "line": {
             "colorbar": {
              "outlinewidth": 0,
              "ticks": ""
             }
            },
            "marker": {
             "colorbar": {
              "outlinewidth": 0,
              "ticks": ""
             }
            },
            "type": "scatter3d"
           }
          ],
          "scattercarpet": [
           {
            "marker": {
             "colorbar": {
              "outlinewidth": 0,
              "ticks": ""
             }
            },
            "type": "scattercarpet"
           }
          ],
          "scattergeo": [
           {
            "marker": {
             "colorbar": {
              "outlinewidth": 0,
              "ticks": ""
             }
            },
            "type": "scattergeo"
           }
          ],
          "scattergl": [
           {
            "marker": {
             "colorbar": {
              "outlinewidth": 0,
              "ticks": ""
             }
            },
            "type": "scattergl"
           }
          ],
          "scattermapbox": [
           {
            "marker": {
             "colorbar": {
              "outlinewidth": 0,
              "ticks": ""
             }
            },
            "type": "scattermapbox"
           }
          ],
          "scatterpolar": [
           {
            "marker": {
             "colorbar": {
              "outlinewidth": 0,
              "ticks": ""
             }
            },
            "type": "scatterpolar"
           }
          ],
          "scatterpolargl": [
           {
            "marker": {
             "colorbar": {
              "outlinewidth": 0,
              "ticks": ""
             }
            },
            "type": "scatterpolargl"
           }
          ],
          "scatterternary": [
           {
            "marker": {
             "colorbar": {
              "outlinewidth": 0,
              "ticks": ""
             }
            },
            "type": "scatterternary"
           }
          ],
          "surface": [
           {
            "colorbar": {
             "outlinewidth": 0,
             "ticks": ""
            },
            "colorscale": [
             [
              0,
              "#0d0887"
             ],
             [
              0.1111111111111111,
              "#46039f"
             ],
             [
              0.2222222222222222,
              "#7201a8"
             ],
             [
              0.3333333333333333,
              "#9c179e"
             ],
             [
              0.4444444444444444,
              "#bd3786"
             ],
             [
              0.5555555555555556,
              "#d8576b"
             ],
             [
              0.6666666666666666,
              "#ed7953"
             ],
             [
              0.7777777777777778,
              "#fb9f3a"
             ],
             [
              0.8888888888888888,
              "#fdca26"
             ],
             [
              1,
              "#f0f921"
             ]
            ],
            "type": "surface"
           }
          ],
          "table": [
           {
            "cells": {
             "fill": {
              "color": "#EBF0F8"
             },
             "line": {
              "color": "white"
             }
            },
            "header": {
             "fill": {
              "color": "#C8D4E3"
             },
             "line": {
              "color": "white"
             }
            },
            "type": "table"
           }
          ]
         },
         "layout": {
          "annotationdefaults": {
           "arrowcolor": "#2a3f5f",
           "arrowhead": 0,
           "arrowwidth": 1
          },
          "autotypenumbers": "strict",
          "coloraxis": {
           "colorbar": {
            "outlinewidth": 0,
            "ticks": ""
           }
          },
          "colorscale": {
           "diverging": [
            [
             0,
             "#8e0152"
            ],
            [
             0.1,
             "#c51b7d"
            ],
            [
             0.2,
             "#de77ae"
            ],
            [
             0.3,
             "#f1b6da"
            ],
            [
             0.4,
             "#fde0ef"
            ],
            [
             0.5,
             "#f7f7f7"
            ],
            [
             0.6,
             "#e6f5d0"
            ],
            [
             0.7,
             "#b8e186"
            ],
            [
             0.8,
             "#7fbc41"
            ],
            [
             0.9,
             "#4d9221"
            ],
            [
             1,
             "#276419"
            ]
           ],
           "sequential": [
            [
             0,
             "#0d0887"
            ],
            [
             0.1111111111111111,
             "#46039f"
            ],
            [
             0.2222222222222222,
             "#7201a8"
            ],
            [
             0.3333333333333333,
             "#9c179e"
            ],
            [
             0.4444444444444444,
             "#bd3786"
            ],
            [
             0.5555555555555556,
             "#d8576b"
            ],
            [
             0.6666666666666666,
             "#ed7953"
            ],
            [
             0.7777777777777778,
             "#fb9f3a"
            ],
            [
             0.8888888888888888,
             "#fdca26"
            ],
            [
             1,
             "#f0f921"
            ]
           ],
           "sequentialminus": [
            [
             0,
             "#0d0887"
            ],
            [
             0.1111111111111111,
             "#46039f"
            ],
            [
             0.2222222222222222,
             "#7201a8"
            ],
            [
             0.3333333333333333,
             "#9c179e"
            ],
            [
             0.4444444444444444,
             "#bd3786"
            ],
            [
             0.5555555555555556,
             "#d8576b"
            ],
            [
             0.6666666666666666,
             "#ed7953"
            ],
            [
             0.7777777777777778,
             "#fb9f3a"
            ],
            [
             0.8888888888888888,
             "#fdca26"
            ],
            [
             1,
             "#f0f921"
            ]
           ]
          },
          "colorway": [
           "#636efa",
           "#EF553B",
           "#00cc96",
           "#ab63fa",
           "#FFA15A",
           "#19d3f3",
           "#FF6692",
           "#B6E880",
           "#FF97FF",
           "#FECB52"
          ],
          "font": {
           "color": "#2a3f5f"
          },
          "geo": {
           "bgcolor": "white",
           "lakecolor": "white",
           "landcolor": "#E5ECF6",
           "showlakes": true,
           "showland": true,
           "subunitcolor": "white"
          },
          "hoverlabel": {
           "align": "left"
          },
          "hovermode": "closest",
          "mapbox": {
           "style": "light"
          },
          "paper_bgcolor": "white",
          "plot_bgcolor": "#E5ECF6",
          "polar": {
           "angularaxis": {
            "gridcolor": "white",
            "linecolor": "white",
            "ticks": ""
           },
           "bgcolor": "#E5ECF6",
           "radialaxis": {
            "gridcolor": "white",
            "linecolor": "white",
            "ticks": ""
           }
          },
          "scene": {
           "xaxis": {
            "backgroundcolor": "#E5ECF6",
            "gridcolor": "white",
            "gridwidth": 2,
            "linecolor": "white",
            "showbackground": true,
            "ticks": "",
            "zerolinecolor": "white"
           },
           "yaxis": {
            "backgroundcolor": "#E5ECF6",
            "gridcolor": "white",
            "gridwidth": 2,
            "linecolor": "white",
            "showbackground": true,
            "ticks": "",
            "zerolinecolor": "white"
           },
           "zaxis": {
            "backgroundcolor": "#E5ECF6",
            "gridcolor": "white",
            "gridwidth": 2,
            "linecolor": "white",
            "showbackground": true,
            "ticks": "",
            "zerolinecolor": "white"
           }
          },
          "shapedefaults": {
           "line": {
            "color": "#2a3f5f"
           }
          },
          "ternary": {
           "aaxis": {
            "gridcolor": "white",
            "linecolor": "white",
            "ticks": ""
           },
           "baxis": {
            "gridcolor": "white",
            "linecolor": "white",
            "ticks": ""
           },
           "bgcolor": "#E5ECF6",
           "caxis": {
            "gridcolor": "white",
            "linecolor": "white",
            "ticks": ""
           }
          },
          "title": {
           "x": 0.05
          },
          "xaxis": {
           "automargin": true,
           "gridcolor": "white",
           "linecolor": "white",
           "ticks": "",
           "title": {
            "standoff": 15
           },
           "zerolinecolor": "white",
           "zerolinewidth": 2
          },
          "yaxis": {
           "automargin": true,
           "gridcolor": "white",
           "linecolor": "white",
           "ticks": "",
           "title": {
            "standoff": 15
           },
           "zerolinecolor": "white",
           "zerolinewidth": 2
          }
         }
        },
        "title": {
         "text": "Differences in norms between clean and corrupted activations"
        },
        "yaxis": {
         "autorange": "reversed"
        }
       }
      }
     },
     "metadata": {},
     "output_type": "display_data"
    }
   ],
   "source": [
    "prompt = \"the quick brown fox jumps over the lazy dog\"\n",
    "str_tokens = model.to_str_tokens(prompt)\n",
    "names_filter = lambda x: 'resid' in x or 'out' in x or 'ln' in x\n",
    "_, clean_cache = model.run_with_cache(prompt, names_filter=names_filter)\n",
    "\n",
    "def get_all_norms(cache, return_dict: bool = False) -> dict[str, torch.Tensor]:\n",
    "    if return_dict:\n",
    "        return {k: v.norm(dim=-1).squeeze().cpu()\n",
    "                for k, v in cache.items()\n",
    "                # if 'ln' not in k\n",
    "                }\n",
    "    \n",
    "    return torch.stack([v.norm(dim=-1).squeeze().cpu()\n",
    "                        for k, v in cache.items()\n",
    "                        # if 'ln' not in k\n",
    "                        ])\n",
    "    \n",
    "clean_norms_dict = get_all_norms(clean_cache, True)\n",
    "hook_names = list(clean_norms_dict.keys())\n",
    "clean_norms = torch.stack(list(clean_norms_dict.values()))\n",
    "\n",
    "lu.plot_sae(saes, clean_cache, 'attn_out')\n",
    "\n",
    "\n",
    "sae_acts, sae_active_features = lu.get_all_sae_acts(saes, clean_cache)\n",
    "feature_to_ablate = sae_active_features[1][:7]\n",
    "print(f\"Features to ablate: {feature_to_ablate}\")\n",
    "\n",
    "with model.hooks(fwd_hooks=[(get_act_name('attn_out', 0),\n",
    "                             lu.ablate_sae_feature(saes, feature_to_ablate))]):\n",
    "    _, corrupted_cache = model.run_with_cache(prompt, names_filter=names_filter)\n",
    "    corrupted_norms = get_all_norms(corrupted_cache)\n",
    "\n",
    "\n",
    "# Calculate the relative difference (avoiding division by zero)\n",
    "epsilon = 1e-9  # Small constant to avoid division by zero\n",
    "mean_norms = (clean_norms + corrupted_norms) / 2\n",
    "relative_difference = (corrupted_norms - clean_norms) / (mean_norms + epsilon)\n",
    "\n",
    "# Prepare hover text\n",
    "hover_text = [[\n",
    "    f'Layer: {hook_names[i]}<br><br>' +\n",
    "    f'Clean: {clean_norms[i,j]:.3f}' +\n",
    "    f'<br>Corrupted: {corrupted_norms[i,j]:.3f}' +\n",
    "    f'<br>Difference: {corrupted_norms[i,j]-clean_norms[i,j]:.3f}' +\n",
    "    f'<br>Ratio: {corrupted_norms[i,j]/(clean_norms[i,j]+epsilon):.3f}'\n",
    "    for j in range(clean_norms.shape[1])]\n",
    "              for i in range(clean_norms.shape[0])]\n",
    "\n",
    "# Create the heatmap\n",
    "fig = go.Figure(data=go.Heatmap(\n",
    "    z=relative_difference.numpy(),\n",
    "    x=[f'{i}: \"{str_tokens[i]}\"' for i in range(clean_norms.shape[1])],\n",
    "    y=[hook_names[i] for i in range(clean_norms.shape[0])],\n",
    "    hoverinfo=\"text\",\n",
    "    text=hover_text,\n",
    "    colorbar_title=\"Relative<br>Difference\",\n",
    "    colorscale=\"RdBu\"))\n",
    "\n",
    "fig.update_layout(title='Differences in norms between clean and corrupted activations',\n",
    "                  yaxis_autorange='reversed')\n",
    "fig.show()"
   ]
  },
  {
   "cell_type": "markdown",
   "metadata": {},
   "source": [
    "Okay, so what seems to happen is what I would've predicted — ablating something in attn_out reduces its norm, which reduces the norm of resid_mid by a smaller amount. What happens afterwards is kinda surprising, it seems like pretty often the norm of mlp_out and resid_post actually increases as a result of the ablation, but this seems to really depend on the example.\n",
    "\n",
    "Let's do this at scale now."
   ]
  },
  {
   "cell_type": "code",
   "execution_count": 15,
   "metadata": {},
   "outputs": [
    {
     "data": {
      "application/vnd.jupyter.widget-view+json": {
       "model_id": "8b22da59da7d4bba8dedf1a7da2b3d84",
       "version_major": 2,
       "version_minor": 0
      },
      "text/plain": [
       "Resolving data files:   0%|          | 0/23 [00:00<?, ?it/s]"
      ]
     },
     "metadata": {},
     "output_type": "display_data"
    },
    {
     "name": "stderr",
     "output_type": "stream",
     "text": [
      "100%|██████████| 10/10 [00:00<00:00, 10.09it/s]\n",
      "100%|██████████| 320/320 [00:26<00:00, 12.08it/s]"
     ]
    },
    {
     "name": "stdout",
     "output_type": "stream",
     "text": [
      "Means: tensor([0.8753, 0.9013, 1.0244, 1.0251])\n",
      "Stds: tensor([0.0827, 0.0683, 0.1317, 0.1250])\n"
     ]
    },
    {
     "name": "stderr",
     "output_type": "stream",
     "text": [
      "\n"
     ]
    },
    {
     "data": {
      "application/vnd.plotly.v1+json": {
       "config": {
        "plotlyServerURL": "https://plot.ly"
       },
       "data": [
        {
         "histnorm": "probability",
         "name": "attn_out",
         "nbinsx": 300,
         "type": "histogram",
         "x": [
          0.8025580644607544,
          0.9459691047668457,
          0.861583948135376,
          0.815559983253479,
          0.9399739503860474,
          0.9670413136482239,
          0.976365864276886,
          0.9794140458106995,
          0.9684230089187622,
          0.9993736147880554,
          0.8043266534805298,
          0.8500396609306335,
          0.9600734710693359,
          0.7768557071685791,
          0.9835421442985535,
          0.8478663563728333,
          0.9496145844459534,
          0.8332663774490356,
          0.8738938570022583,
          0.9240467548370361,
          0.806938886642456,
          0.7671504020690918,
          0.9028236865997314,
          0.7842063307762146,
          0.833742618560791,
          0.8025608062744141,
          0.8763832449913025,
          0.9544786214828491,
          0.9468582272529602,
          0.916758120059967,
          0.884373128414154,
          0.9230080842971802,
          0.8291277289390564,
          0.6802433133125305,
          0.8574941754341125,
          0.9524267911911011,
          0.9644493460655212,
          0.9571651816368103,
          0.8535900115966797,
          0.8368226289749146,
          0.8931617140769958,
          0.8980473279953003,
          0.6830393075942993,
          0.9455727338790894,
          0.8184122443199158,
          0.982414186000824,
          0.9145706295967102,
          0.8610971570014954,
          0.7053789496421814,
          0.9464221596717834,
          0.9543829560279846,
          0.8169218301773071,
          0.8205348253250122,
          0.9385491013526917,
          0.8348677158355713,
          0.98431795835495,
          0.9997715950012207,
          0.9302400946617126,
          0.9997692108154297,
          0.9167264103889465,
          0.8809056282043457,
          0.9353130459785461,
          0.7712514400482178,
          0.650587260723114,
          0.8800069689750671,
          0.8323400020599365,
          0.8107080459594727,
          0.9745129346847534,
          0.95489901304245,
          0.7602468729019165,
          0.9641155004501343,
          0.8126105666160583,
          0.8166285157203674,
          0.9725563526153564,
          0.8806135654449463,
          0.9307201504707336,
          0.9504547715187073,
          0.8089985251426697,
          0.9317682981491089,
          0.8830280900001526,
          0.7694011330604553,
          0.8161526918411255,
          0.9021157622337341,
          0.7559762001037598,
          0.9854446649551392,
          0.8403922319412231,
          0.8557811975479126,
          0.8917795419692993,
          0.7546748518943787,
          0.9559429287910461,
          0.9093232154846191,
          0.7714619040489197,
          0.8006493449211121,
          0.7566097974777222,
          0.8892912864685059,
          0.984524130821228,
          0.8119776248931885,
          0.862474799156189,
          0.9450594782829285,
          0.8613443374633789,
          0.9520859718322754,
          0.8994861841201782,
          0.8196760416030884,
          0.9103310108184814,
          0.7726516723632812,
          0.8863987326622009,
          0.9143387079238892,
          0.8395944833755493,
          0.9409692287445068,
          0.905583381652832,
          0.9577391743659973,
          0.8519001007080078,
          0.977094292640686,
          0.9612442851066589,
          0.8508908152580261,
          0.7063394784927368,
          0.7911344170570374,
          0.7158871293067932,
          0.8281481862068176,
          0.7830880880355835,
          0.9579510688781738,
          0.7683753371238708,
          0.9202812910079956,
          0.991645336151123,
          0.948434591293335,
          0.8817379474639893,
          0.6621580719947815,
          0.8881390690803528,
          0.8578526973724365,
          0.852113664150238,
          0.9556894898414612,
          0.918150782585144,
          0.8971584439277649,
          0.9792131781578064,
          0.9372948408126831,
          0.9807548522949219,
          0.9542945623397827,
          0.893133819103241,
          0.8628354072570801,
          0.8586880564689636,
          0.9064396619796753,
          0.6707231998443604,
          0.8876908421516418,
          0.95442134141922,
          0.9143362045288086,
          0.8941044807434082,
          0.9905728697776794,
          0.7446672916412354,
          0.7469000220298767,
          0.8124595880508423,
          0.9442946910858154,
          0.8594460487365723,
          0.9191536903381348,
          0.9987531304359436,
          0.9996482133865356,
          1.000667691230774,
          0.7495326399803162,
          0.773637592792511,
          0.94041508436203,
          0.9994910359382629,
          0.9239399433135986,
          0.8817715048789978,
          0.8597343564033508,
          0.8311265707015991,
          0.8442411422729492,
          0.8858041763305664,
          0.8185835480690002,
          0.9488022923469543,
          0.7907828688621521,
          0.9964595437049866,
          0.8844573497772217,
          0.8608580231666565,
          0.9998117685317993,
          0.8132725954055786,
          0.7820971608161926,
          0.9395766258239746,
          0.9022150039672852,
          0.9980064630508423,
          0.9226333498954773,
          0.6404646635055542,
          0.9159428477287292,
          0.8524503707885742,
          0.7287650108337402,
          0.854138195514679,
          0.8217030763626099,
          0.7768180966377258,
          0.9813984036445618,
          0.9161514043807983,
          0.8323034644126892,
          0.849429726600647,
          0.9338006973266602,
          0.9538428783416748,
          0.9623855948448181,
          0.7447214126586914,
          0.8869500160217285,
          0.8102006912231445,
          0.8005238175392151,
          0.8827418088912964,
          0.9763394594192505,
          0.7682496905326843,
          0.7213229537010193,
          0.9686678051948547,
          0.8532342910766602,
          0.9822077751159668,
          1.007665753364563,
          0.7706491947174072,
          1.0009335279464722,
          0.9863443970680237,
          0.9502436518669128,
          0.8716314435005188,
          0.7983963489532471,
          0.6153609752655029,
          0.8650786280632019,
          0.946534276008606,
          0.8042665719985962,
          0.9982885718345642,
          0.7785812020301819,
          0.938171923160553,
          0.8669813871383667,
          0.8469076752662659,
          0.8606704473495483,
          0.8433952927589417,
          0.9286471605300903,
          0.9477469325065613,
          0.88823002576828,
          0.7439170479774475,
          0.9186731576919556,
          0.9080353379249573,
          0.7767734527587891,
          0.9859055280685425,
          0.8030499219894409,
          0.9427216053009033,
          0.9109352231025696,
          0.8411966562271118,
          0.835688591003418,
          0.9617998003959656,
          0.8761943578720093,
          0.8960033655166626,
          0.8324838280677795,
          0.9173211455345154,
          0.8767721652984619,
          0.8865559101104736,
          0.8833115100860596,
          0.9247959852218628,
          0.8564903736114502,
          0.8055900931358337,
          0.9232525825500488,
          0.9619227051734924,
          0.8156387209892273,
          0.7633495926856995,
          0.919653058052063,
          0.8274737000465393,
          0.7976109385490417,
          0.8557168245315552,
          0.922697901725769,
          0.8277681469917297,
          0.6869955658912659,
          0.8417239189147949,
          0.7492603063583374,
          0.9435161352157593,
          0.9443182349205017,
          0.8035643696784973,
          0.7761836647987366,
          0.7692267298698425,
          0.8379476070404053,
          0.9792556762695312,
          0.878987729549408,
          0.7288718819618225,
          0.8439887166023254,
          0.837602436542511,
          0.9093785881996155,
          0.8264175057411194,
          0.9749182462692261,
          0.8701193928718567,
          0.8811683654785156,
          0.8707326054573059,
          0.7997329831123352,
          0.8263987302780151,
          0.8880345225334167,
          0.9911357164382935,
          0.9184507131576538,
          0.7774562239646912,
          0.9504579901695251,
          0.8126489520072937,
          0.813057541847229,
          0.9925916790962219,
          0.9918324947357178,
          0.9633437395095825,
          0.7717865109443665,
          0.653161346912384,
          0.9169288277626038,
          0.8970624208450317,
          0.9555814862251282,
          0.9793856143951416,
          1.000187635421753,
          0.9587717056274414,
          0.8186609745025635,
          0.8492280840873718,
          0.9619603157043457,
          0.976524293422699,
          0.763579249382019,
          0.8430320024490356,
          0.7701425552368164,
          0.9566942453384399,
          0.8559039235115051,
          0.8292896747589111,
          0.7904593348503113,
          0.7986723780632019,
          0.7324642539024353,
          0.8539998531341553,
          0.9996569156646729,
          1.004517912864685,
          0.9422123432159424,
          0.8077279925346375,
          0.9455697536468506,
          0.9147979617118835,
          0.8513348698616028,
          0.7731592059135437,
          0.8167415857315063,
          0.9311309456825256
         ],
         "xaxis": "x",
         "yaxis": "y"
        },
        {
         "histnorm": "probability",
         "name": "resid_mid",
         "nbinsx": 300,
         "type": "histogram",
         "x": [
          0.8479536175727844,
          0.9437622427940369,
          0.879618763923645,
          0.8559582233428955,
          0.948478102684021,
          0.9737504124641418,
          0.9786511659622192,
          0.982489824295044,
          0.987091064453125,
          0.9996414184570312,
          0.847392737865448,
          0.9317551851272583,
          0.9684990048408508,
          0.8195760846138,
          1.001274585723877,
          0.8791505694389343,
          0.9608104825019836,
          0.88334059715271,
          0.8948235511779785,
          0.950840413570404,
          0.8394929766654968,
          0.8238964676856995,
          0.9212372899055481,
          0.8369119763374329,
          0.8645361661911011,
          0.8341636657714844,
          0.8997859358787537,
          0.9611775279045105,
          0.9653419852256775,
          0.9336363077163696,
          0.91297847032547,
          0.9204816222190857,
          0.9147093296051025,
          0.7444022297859192,
          0.8927305936813354,
          0.9547448754310608,
          0.9705823659896851,
          0.961168110370636,
          0.8610166907310486,
          0.8672794699668884,
          0.9032986164093018,
          0.9064602255821228,
          0.7290043234825134,
          0.9735367298126221,
          0.8403105139732361,
          0.9827705025672913,
          0.9278773069381714,
          0.8886929750442505,
          0.7694724202156067,
          0.9638009667396545,
          0.9567760825157166,
          0.8232370615005493,
          0.8452964425086975,
          0.9355671405792236,
          0.8640846610069275,
          0.9856957793235779,
          0.9998689293861389,
          0.9446564316749573,
          0.9998229146003723,
          0.9244831800460815,
          0.889755368232727,
          0.9840216636657715,
          0.8102282285690308,
          0.710781991481781,
          0.9206581115722656,
          0.8602443933486938,
          0.8759733438491821,
          0.9797995090484619,
          0.9584994316101074,
          0.803126871585846,
          0.9645752906799316,
          0.8591503500938416,
          0.845705509185791,
          0.9731102585792542,
          0.894564688205719,
          0.9404943585395813,
          0.965096652507782,
          0.8754353523254395,
          0.9534426331520081,
          0.9046975374221802,
          0.8142571449279785,
          0.9523965716362,
          0.9080644845962524,
          0.8045799732208252,
          0.9883232712745667,
          0.8509143590927124,
          0.9000921845436096,
          0.9190167784690857,
          0.7962683439254761,
          0.9747584462165833,
          0.9136368632316589,
          0.8255499601364136,
          0.8907379508018494,
          0.7987752556800842,
          0.8949040770530701,
          0.9872044920921326,
          0.875419557094574,
          0.8905174136161804,
          0.956121563911438,
          0.8819471597671509,
          0.9564015865325928,
          0.9196963906288147,
          0.8398247957229614,
          0.9298367500305176,
          0.8228880763053894,
          0.9214692115783691,
          0.9400408864021301,
          0.8928818106651306,
          0.9433583617210388,
          0.908795177936554,
          0.9689038991928101,
          0.9037951231002808,
          0.9795889258384705,
          0.9588257670402527,
          0.8785675764083862,
          0.7509639859199524,
          0.8398489952087402,
          0.7930521368980408,
          0.8540834784507751,
          0.8150439262390137,
          0.9706104397773743,
          0.8105782866477966,
          0.932440459728241,
          0.9927495121955872,
          0.9551330804824829,
          0.9127451777458191,
          0.7198085188865662,
          0.916151225566864,
          0.8991717100143433,
          0.8820952773094177,
          0.9524347186088562,
          0.935779333114624,
          0.9095545411109924,
          0.983083188533783,
          0.9530230760574341,
          0.9901609420776367,
          0.9549393057823181,
          0.9427327513694763,
          0.8890706300735474,
          0.8903648853302002,
          0.9124923348426819,
          0.7181947231292725,
          0.9098455905914307,
          0.9675361514091492,
          0.9360916614532471,
          0.9076651334762573,
          0.9919953942298889,
          0.8025391697883606,
          0.7994418740272522,
          0.8439809679985046,
          0.9602137207984924,
          0.8906710743904114,
          0.9406145811080933,
          1.0006970167160034,
          0.9987820386886597,
          1.0002388954162598,
          0.7891401648521423,
          0.8391638398170471,
          0.9625192284584045,
          0.9996130466461182,
          0.9774562120437622,
          0.9245772361755371,
          0.8820157051086426,
          0.8590813875198364,
          0.8786901831626892,
          0.9025973677635193,
          0.8544012904167175,
          0.9806908369064331,
          0.850632905960083,
          0.997635543346405,
          0.9092126488685608,
          0.9011978507041931,
          0.9997804164886475,
          0.8234809041023254,
          0.8500044941902161,
          0.9620875120162964,
          0.9343872666358948,
          1.0030207633972168,
          0.9351564049720764,
          0.703350305557251,
          0.9355718493461609,
          0.9165573716163635,
          0.7736709713935852,
          0.8797682523727417,
          0.8444197773933411,
          0.8373401761054993,
          0.9846705198287964,
          0.9516823887825012,
          0.9000523686408997,
          0.8890272378921509,
          0.9462635517120361,
          0.9628374576568604,
          0.9696322083473206,
          0.8236098885536194,
          0.925614058971405,
          0.8330481052398682,
          0.8328756093978882,
          0.8960409760475159,
          0.9769578576087952,
          0.8899676203727722,
          0.7865154147148132,
          0.9720626473426819,
          0.8752228021621704,
          0.9862204790115356,
          1.0121737718582153,
          0.8263890743255615,
          0.9961851239204407,
          0.9893386960029602,
          0.9646228551864624,
          0.8814629912376404,
          0.8705105781555176,
          0.6789529919624329,
          0.8688684105873108,
          0.9565576910972595,
          0.844838559627533,
          0.9986947178840637,
          0.8163567781448364,
          0.9579547643661499,
          0.8836872577667236,
          0.906473696231842,
          0.9138115644454956,
          0.8595359921455383,
          0.9475986957550049,
          0.9578415751457214,
          0.9106971025466919,
          0.7834647297859192,
          0.9261239767074585,
          0.9219470620155334,
          0.8268352746963501,
          0.9877910614013672,
          0.8440936803817749,
          0.9512633681297302,
          0.9312810301780701,
          0.9176118969917297,
          0.8540006875991821,
          0.9685513377189636,
          0.9071586728096008,
          0.9269917607307434,
          0.8874998092651367,
          0.9287022948265076,
          0.912937581539154,
          0.9211091995239258,
          0.9488489627838135,
          0.9411953091621399,
          0.8791050314903259,
          0.9096655249595642,
          0.9375709295272827,
          0.9729607701301575,
          0.8386363387107849,
          0.8267856240272522,
          0.9431625604629517,
          0.8857783079147339,
          0.8380311727523804,
          0.8791940212249756,
          0.9357455372810364,
          0.8521883487701416,
          0.7631807923316956,
          0.8954428434371948,
          0.773230791091919,
          0.9581630825996399,
          0.944756805896759,
          0.8321049213409424,
          0.7814109325408936,
          0.7982260584831238,
          0.8437930941581726,
          0.989302396774292,
          0.8869621753692627,
          0.7758952975273132,
          0.8802109956741333,
          0.8608771562576294,
          0.935875654220581,
          0.8467701077461243,
          0.9783307313919067,
          0.8925402760505676,
          0.8963289856910706,
          0.8735345602035522,
          0.8153884410858154,
          0.84534752368927,
          0.9083277583122253,
          0.9918994307518005,
          0.9307777285575867,
          0.8035688996315002,
          0.964632511138916,
          0.8411933183670044,
          0.8467528223991394,
          0.9929282069206238,
          0.9944134950637817,
          0.9776976108551025,
          0.832323431968689,
          0.7062737345695496,
          0.9131081104278564,
          0.9209032654762268,
          0.9672425389289856,
          0.9830538034439087,
          0.9998226165771484,
          0.9641193747520447,
          0.8471037745475769,
          0.8914560079574585,
          0.9743415117263794,
          0.9787726402282715,
          0.8056848049163818,
          0.8602850437164307,
          0.8213402032852173,
          0.9790578484535217,
          0.8729640245437622,
          0.8414861559867859,
          0.8272055983543396,
          0.8229992985725403,
          0.7802543044090271,
          0.8915646076202393,
          0.9997189044952393,
          1.0021005868911743,
          0.9513165354728699,
          0.8071480393409729,
          0.9552584886550903,
          0.9230685234069824,
          0.9198302030563354,
          0.7839633226394653,
          0.83640056848526,
          0.9466457962989807
         ],
         "xaxis": "x2",
         "yaxis": "y2"
        },
        {
         "histnorm": "probability",
         "name": "mlp_out",
         "nbinsx": 300,
         "type": "histogram",
         "x": [
          0.9996917843818665,
          1.0492100715637207,
          1.0229732990264893,
          1.1550166606903076,
          1.0302889347076416,
          0.9910709261894226,
          0.9980513453483582,
          0.9715226292610168,
          0.9905804991722107,
          1.00101900100708,
          0.7898930311203003,
          0.8111057281494141,
          1.0423531532287598,
          1.1251546144485474,
          1.0140548944473267,
          1.00574791431427,
          1.0111576318740845,
          0.8648861050605774,
          1.0359991788864136,
          0.9782493710517883,
          0.9179441928863525,
          1.3535962104797363,
          1.0177322626113892,
          1.1739126443862915,
          1.3616620302200317,
          1.439470648765564,
          0.9265349507331848,
          1.1269625425338745,
          0.9490348100662231,
          1.03314208984375,
          0.8771175742149353,
          0.7655867338180542,
          0.8638742566108704,
          0.9442721009254456,
          0.9303529858589172,
          1.0627105236053467,
          1.0537818670272827,
          0.9946330189704895,
          0.9461262822151184,
          1.078539490699768,
          0.9636882543563843,
          1.0353902578353882,
          1.0345789194107056,
          1.0658589601516724,
          1.0230661630630493,
          0.9937888979911804,
          1.1689406633377075,
          1.1061339378356934,
          1.2983198165893555,
          1.0207136869430542,
          1.0433436632156372,
          1.1156158447265625,
          0.997825026512146,
          0.9560892581939697,
          1.0554311275482178,
          0.9996809959411621,
          0.9999447464942932,
          1.017238736152649,
          0.9994688034057617,
          1.1311750411987305,
          1.1026707887649536,
          0.8527949452400208,
          0.8760753273963928,
          0.9967660307884216,
          0.9380990266799927,
          1.2095303535461426,
          0.9391795992851257,
          0.9757960438728333,
          1.0028409957885742,
          1.005914568901062,
          1.021977186203003,
          0.8675297498703003,
          0.9727176427841187,
          0.8798990845680237,
          0.9059562087059021,
          0.9726037979125977,
          0.963508665561676,
          1.0249950885772705,
          0.9695380330085754,
          1.1228312253952026,
          0.7823609709739685,
          0.9804578423500061,
          1.1630725860595703,
          0.9877910614013672,
          1.0182970762252808,
          1.2146834135055542,
          1.2451872825622559,
          1.058976173400879,
          1.0022144317626953,
          0.9925119280815125,
          1.0894529819488525,
          1.1494635343551636,
          0.8331043124198914,
          1.032714605331421,
          1.0133442878723145,
          1.050026774406433,
          1.155706524848938,
          0.9904916286468506,
          1.0059336423873901,
          0.8863493800163269,
          1.0410224199295044,
          1.056898832321167,
          0.9671630263328552,
          1.006408929824829,
          0.9712168574333191,
          0.8946508765220642,
          1.1375107765197754,
          0.9286184310913086,
          0.9593457579612732,
          1.0122994184494019,
          1.0004585981369019,
          1.019417405128479,
          1.0103938579559326,
          0.9385126233100891,
          1.102376103401184,
          1.3261514902114868,
          1.054177165031433,
          1.0021880865097046,
          0.9509915709495544,
          1.0111135244369507,
          0.9314967393875122,
          0.9747124314308167,
          0.9966028332710266,
          1.0254100561141968,
          0.9073272943496704,
          0.9873315095901489,
          1.0046435594558716,
          0.9994169473648071,
          1.1285383701324463,
          1.0401815176010132,
          1.1519447565078735,
          0.8682299852371216,
          1.02549409866333,
          1.017975926399231,
          1.001531958580017,
          0.9747050404548645,
          0.9525117874145508,
          0.9126513600349426,
          0.894151508808136,
          1.0399394035339355,
          1.1641887426376343,
          1.0338637828826904,
          1.029493808746338,
          0.9376211166381836,
          0.9579277038574219,
          0.999482274055481,
          0.9220992922782898,
          1.0968067646026611,
          0.9915076494216919,
          0.9388506412506104,
          0.9014176726341248,
          1.1678643226623535,
          0.991447925567627,
          1.0085680484771729,
          0.9908913373947144,
          0.8963910937309265,
          0.8488669395446777,
          0.9793913960456848,
          1.0012818574905396,
          1.5927923917770386,
          1.010210633277893,
          1.1243022680282593,
          1.2218754291534424,
          1.0599428415298462,
          1.0700863599777222,
          0.9604260921478271,
          1.1155791282653809,
          0.9451658129692078,
          0.9882953763008118,
          1.065645456314087,
          1.0953081846237183,
          1.0019235610961914,
          1.0637264251708984,
          0.9962284564971924,
          1.031230092048645,
          1.0162423849105835,
          1.0002832412719727,
          1.0149976015090942,
          1.0109621286392212,
          0.9703015685081482,
          1.100232481956482,
          0.9776268601417542,
          1.1272491216659546,
          1.3780471086502075,
          1.0474138259887695,
          1.0261752605438232,
          1.171394944190979,
          1.1176890134811401,
          1.0338351726531982,
          0.9893818497657776,
          1.0981606245040894,
          1.0249836444854736,
          1.1252875328063965,
          0.9972189664840698,
          1.0974626541137695,
          0.917185366153717,
          1.0386906862258911,
          0.990014910697937,
          1.7036713361740112,
          0.9040912389755249,
          0.9976834654808044,
          1.2181975841522217,
          0.9988909363746643,
          1.0126060247421265,
          1.1129844188690186,
          0.9863383173942566,
          0.9798439145088196,
          0.9932881593704224,
          1.0074456930160522,
          1.138904094696045,
          1.1607083082199097,
          0.860232949256897,
          1.003237009048462,
          0.8998610377311707,
          1.000300645828247,
          0.991304337978363,
          1.0171793699264526,
          1.0102297067642212,
          0.8296477794647217,
          0.9438372850418091,
          1.016582727432251,
          1.0385960340499878,
          0.9639127254486084,
          0.8995404839515686,
          1.1709728240966797,
          0.9550268650054932,
          1.0107426643371582,
          0.9508001804351807,
          0.9708957672119141,
          0.8850798606872559,
          0.9999536275863647,
          1.0008078813552856,
          1.1728521585464478,
          0.834746778011322,
          1.001262903213501,
          0.9643271565437317,
          1.0803107023239136,
          1.1007634401321411,
          0.8807989358901978,
          0.9375852346420288,
          1.0068672895431519,
          1.1197072267532349,
          1.0495290756225586,
          1.2642637491226196,
          1.4153029918670654,
          1.0763176679611206,
          1.0459742546081543,
          0.8826418519020081,
          0.9300897121429443,
          1.0199096202850342,
          0.9167171120643616,
          1.0093127489089966,
          1.035861849784851,
          1.0567103624343872,
          0.9912092089653015,
          1.2165147066116333,
          0.9511591196060181,
          1.1570550203323364,
          0.9725239872932434,
          0.9587234258651733,
          1.0773203372955322,
          1.2844288349151611,
          1.2453819513320923,
          1.0392107963562012,
          0.9990712404251099,
          1.0866755247116089,
          1.1557726860046387,
          0.8198932409286499,
          0.8545733094215393,
          1.0630161762237549,
          0.8678219318389893,
          0.9884734749794006,
          1.0422780513763428,
          0.9449380040168762,
          0.8939017057418823,
          0.9351820945739746,
          1.0827221870422363,
          0.9251506924629211,
          0.981076180934906,
          0.9593559503555298,
          0.8878836631774902,
          0.9235010743141174,
          0.9720845818519592,
          1.2676377296447754,
          1.0189763307571411,
          1.0265650749206543,
          0.9999147653579712,
          0.9909684658050537,
          0.9615963101387024,
          0.9200699925422668,
          0.9413515329360962,
          0.9529341459274292,
          0.9965083003044128,
          1.000892162322998,
          1.0070217847824097,
          0.9049041867256165,
          0.9790254235267639,
          1.0922340154647827,
          0.9633318185806274,
          1.0350275039672852,
          1.034644603729248,
          0.7211586833000183,
          0.9730674624443054,
          1.08197820186615,
          1.0162359476089478,
          0.8396745920181274,
          1.1341267824172974,
          0.9642323851585388,
          0.9870890378952026,
          1.0001693964004517,
          0.9991447329521179,
          1.005014419555664,
          1.134344458580017,
          0.9339096546173096,
          0.9934524893760681,
          1.1255395412445068,
          1.148205280303955,
          0.991863489151001,
          1.0880869626998901
         ],
         "xaxis": "x3",
         "yaxis": "y3"
        },
        {
         "histnorm": "probability",
         "name": "resid_post",
         "nbinsx": 300,
         "type": "histogram",
         "x": [
          0.9965866804122925,
          1.0393060445785522,
          1.0261332988739014,
          1.1447604894638062,
          1.0269557237625122,
          0.9956516027450562,
          1.0047551393508911,
          0.9717890024185181,
          0.9897328019142151,
          1.0012359619140625,
          0.7925655245780945,
          0.8462620973587036,
          1.0387020111083984,
          1.1166999340057373,
          1.0126869678497314,
          0.9566167593002319,
          1.0189772844314575,
          0.8707633018493652,
          1.0467482805252075,
          0.9808096289634705,
          0.9272168874740601,
          1.3461613655090332,
          1.0126228332519531,
          1.1740689277648926,
          1.3067069053649902,
          1.4278554916381836,
          0.9316959977149963,
          1.1389816999435425,
          0.9620352387428284,
          1.0115540027618408,
          0.8639376759529114,
          0.7808757424354553,
          0.8460060954093933,
          0.9544565677642822,
          0.9343281388282776,
          1.0402989387512207,
          1.0608783960342407,
          1.0012880563735962,
          0.9404054880142212,
          1.0374983549118042,
          0.9643852710723877,
          1.0389434099197388,
          1.03622567653656,
          1.0658564567565918,
          1.0599098205566406,
          1.0021700859069824,
          1.1730154752731323,
          1.1109057664871216,
          1.3335422277450562,
          1.0111178159713745,
          1.0435094833374023,
          1.0941983461380005,
          0.9896734952926636,
          0.9496920704841614,
          1.0544476509094238,
          1.0012513399124146,
          0.999867856502533,
          1.0304996967315674,
          0.9996066093444824,
          1.1191391944885254,
          1.0860285758972168,
          0.8583663702011108,
          0.9177289605140686,
          1.0034514665603638,
          0.9297726154327393,
          1.2148480415344238,
          0.9437925219535828,
          0.9778839349746704,
          1.0183464288711548,
          0.9975290298461914,
          1.0432573556900024,
          0.857439398765564,
          0.9724569916725159,
          0.8925037384033203,
          0.913478672504425,
          0.9721413254737854,
          0.9563218951225281,
          1.0445716381072998,
          0.97365403175354,
          1.1411724090576172,
          0.7862209677696228,
          0.9880227446556091,
          1.1102548837661743,
          0.9881829023361206,
          1.018867015838623,
          1.1863170862197876,
          1.251211404800415,
          1.0769984722137451,
          0.9998880624771118,
          0.9929444789886475,
          1.0958287715911865,
          1.1706607341766357,
          0.8474107980728149,
          1.0281386375427246,
          1.0140889883041382,
          1.0609134435653687,
          1.1731183528900146,
          0.9963059425354004,
          1.0078765153884888,
          0.889866292476654,
          1.0398260354995728,
          1.0454944372177124,
          0.9841627478599548,
          1.002163290977478,
          0.9744648933410645,
          0.8879758715629578,
          1.1480488777160645,
          0.9373140931129456,
          0.9652875065803528,
          1.0187523365020752,
          1.0102205276489258,
          1.0083396434783936,
          1.0124866962432861,
          0.939982533454895,
          1.0986067056655884,
          1.3289207220077515,
          1.0599486827850342,
          1.0109639167785645,
          0.9407861828804016,
          1.0143693685531616,
          0.9399752020835876,
          0.9744258522987366,
          0.9976100325584412,
          1.03215754032135,
          0.9165211915969849,
          0.9984111189842224,
          1.0064375400543213,
          1.0125490427017212,
          1.1032006740570068,
          1.0340465307235718,
          1.1482516527175903,
          0.880158007144928,
          1.0248981714248657,
          1.0374175310134888,
          1.0114824771881104,
          0.9886987209320068,
          0.9418027997016907,
          0.913483202457428,
          0.9098195433616638,
          1.0486130714416504,
          1.2066571712493896,
          1.033582329750061,
          1.0290266275405884,
          0.9420285224914551,
          0.9667275547981262,
          0.9986792206764221,
          0.9225717186927795,
          1.116410732269287,
          0.9797104597091675,
          0.9358088970184326,
          0.9031993746757507,
          1.1690036058425903,
          0.9912086129188538,
          1.0096808671951294,
          0.9891859292984009,
          0.9273809790611267,
          0.8698379993438721,
          0.9819211363792419,
          1.0012339353561401,
          1.6177915334701538,
          1.0002713203430176,
          1.1234911680221558,
          1.2277195453643799,
          1.0437551736831665,
          1.0635336637496948,
          0.9574505090713501,
          1.1208088397979736,
          0.9269035458564758,
          0.9889940023422241,
          1.0632715225219727,
          1.0837615728378296,
          1.001779556274414,
          1.0073797702789307,
          1.016028881072998,
          1.0258915424346924,
          1.022849678993225,
          1.0039376020431519,
          1.0173577070236206,
          1.0477614402770996,
          0.9783836007118225,
          1.1064544916152954,
          0.9651877880096436,
          1.118430256843567,
          1.3916329145431519,
          1.0533640384674072,
          1.0194058418273926,
          1.14481520652771,
          1.1235936880111694,
          1.0675601959228516,
          0.9928174614906311,
          1.082623839378357,
          1.0244077444076538,
          1.1317147016525269,
          1.0083568096160889,
          1.0885366201400757,
          0.9163505434989929,
          1.0246155261993408,
          0.9905275106430054,
          1.6662395000457764,
          0.9081655740737915,
          0.9899253249168396,
          1.2441294193267822,
          1.0037602186203003,
          1.0117615461349487,
          1.1037224531173706,
          0.9860073328018188,
          0.9846656918525696,
          0.9914129972457886,
          1.0276684761047363,
          1.1494594812393188,
          1.1792676448822021,
          0.862167239189148,
          0.994556725025177,
          0.9075409173965454,
          0.9996235370635986,
          1.0222694873809814,
          1.012472152709961,
          1.004982352256775,
          0.8345877528190613,
          0.9443298578262329,
          1.009108543395996,
          1.0449938774108887,
          0.9710988998413086,
          0.8988298773765564,
          1.1790298223495483,
          0.9623991250991821,
          1.0027821063995361,
          0.9581834673881531,
          0.9680876731872559,
          0.8813754916191101,
          1.0062973499298096,
          1.0004786252975464,
          1.1387674808502197,
          0.8321104645729065,
          1.026577353477478,
          0.9556052684783936,
          1.0678250789642334,
          1.0819722414016724,
          0.8802717328071594,
          0.9404869675636292,
          1.0024724006652832,
          1.126959204673767,
          1.0417704582214355,
          1.2201669216156006,
          1.393407940864563,
          1.07529616355896,
          1.032277226448059,
          0.8857364058494568,
          0.9313769936561584,
          1.0160983800888062,
          0.9303133487701416,
          1.0139118432998657,
          1.0586122274398804,
          1.0571470260620117,
          1.002004861831665,
          1.2281190156936646,
          0.9543091058731079,
          1.131821870803833,
          0.9705182909965515,
          0.9602416753768921,
          1.0777372121810913,
          1.2524850368499756,
          1.2522902488708496,
          1.0385316610336304,
          1.0026530027389526,
          1.0884264707565308,
          1.1929699182510376,
          0.8291434049606323,
          0.8630062341690063,
          1.0653705596923828,
          0.9056450724601746,
          0.987975001335144,
          1.0413211584091187,
          0.9417935609817505,
          0.9124021530151367,
          0.9411937594413757,
          1.0854029655456543,
          0.9102198481559753,
          0.9809715747833252,
          0.9825881123542786,
          0.8809331059455872,
          0.9373557567596436,
          0.9831371903419495,
          1.2472575902938843,
          1.018885612487793,
          1.0244193077087402,
          1.0023736953735352,
          1.003801941871643,
          0.9415897727012634,
          0.9248124361038208,
          0.946139395236969,
          0.9480986595153809,
          0.9954149723052979,
          1.0011295080184937,
          1.006900668144226,
          0.8898430466651917,
          0.9641643166542053,
          1.1065776348114014,
          0.9661708474159241,
          1.039007544517517,
          1.0181845426559448,
          0.7578412890434265,
          0.9779790043830872,
          1.073268175125122,
          1.031610131263733,
          0.8490090370178223,
          1.1467589139938354,
          0.9724663496017456,
          0.9891605377197266,
          1.0002188682556152,
          1.0048184394836426,
          1.0003650188446045,
          1.0536408424377441,
          0.9341728687286377,
          0.9999939203262329,
          1.1534427404403687,
          1.1684179306030273,
          0.9964137077331543,
          1.0624934434890747
         ],
         "xaxis": "x4",
         "yaxis": "y4"
        }
       ],
       "layout": {
        "annotations": [
         {
          "font": {
           "size": 16
          },
          "showarrow": false,
          "text": "attn_out",
          "x": 0.5,
          "xanchor": "center",
          "xref": "paper",
          "y": 1,
          "yanchor": "bottom",
          "yref": "paper"
         },
         {
          "font": {
           "size": 16
          },
          "showarrow": false,
          "text": "resid_mid",
          "x": 0.5,
          "xanchor": "center",
          "xref": "paper",
          "y": 0.71875,
          "yanchor": "bottom",
          "yref": "paper"
         },
         {
          "font": {
           "size": 16
          },
          "showarrow": false,
          "text": "mlp_out",
          "x": 0.5,
          "xanchor": "center",
          "xref": "paper",
          "y": 0.4375,
          "yanchor": "bottom",
          "yref": "paper"
         },
         {
          "font": {
           "size": 16
          },
          "showarrow": false,
          "text": "resid_post",
          "x": 0.5,
          "xanchor": "center",
          "xref": "paper",
          "y": 0.15625,
          "yanchor": "bottom",
          "yref": "paper"
         }
        ],
        "height": 1200,
        "template": {
         "data": {
          "bar": [
           {
            "error_x": {
             "color": "#2a3f5f"
            },
            "error_y": {
             "color": "#2a3f5f"
            },
            "marker": {
             "line": {
              "color": "#E5ECF6",
              "width": 0.5
             },
             "pattern": {
              "fillmode": "overlay",
              "size": 10,
              "solidity": 0.2
             }
            },
            "type": "bar"
           }
          ],
          "barpolar": [
           {
            "marker": {
             "line": {
              "color": "#E5ECF6",
              "width": 0.5
             },
             "pattern": {
              "fillmode": "overlay",
              "size": 10,
              "solidity": 0.2
             }
            },
            "type": "barpolar"
           }
          ],
          "carpet": [
           {
            "aaxis": {
             "endlinecolor": "#2a3f5f",
             "gridcolor": "white",
             "linecolor": "white",
             "minorgridcolor": "white",
             "startlinecolor": "#2a3f5f"
            },
            "baxis": {
             "endlinecolor": "#2a3f5f",
             "gridcolor": "white",
             "linecolor": "white",
             "minorgridcolor": "white",
             "startlinecolor": "#2a3f5f"
            },
            "type": "carpet"
           }
          ],
          "choropleth": [
           {
            "colorbar": {
             "outlinewidth": 0,
             "ticks": ""
            },
            "type": "choropleth"
           }
          ],
          "contour": [
           {
            "colorbar": {
             "outlinewidth": 0,
             "ticks": ""
            },
            "colorscale": [
             [
              0,
              "#0d0887"
             ],
             [
              0.1111111111111111,
              "#46039f"
             ],
             [
              0.2222222222222222,
              "#7201a8"
             ],
             [
              0.3333333333333333,
              "#9c179e"
             ],
             [
              0.4444444444444444,
              "#bd3786"
             ],
             [
              0.5555555555555556,
              "#d8576b"
             ],
             [
              0.6666666666666666,
              "#ed7953"
             ],
             [
              0.7777777777777778,
              "#fb9f3a"
             ],
             [
              0.8888888888888888,
              "#fdca26"
             ],
             [
              1,
              "#f0f921"
             ]
            ],
            "type": "contour"
           }
          ],
          "contourcarpet": [
           {
            "colorbar": {
             "outlinewidth": 0,
             "ticks": ""
            },
            "type": "contourcarpet"
           }
          ],
          "heatmap": [
           {
            "colorbar": {
             "outlinewidth": 0,
             "ticks": ""
            },
            "colorscale": [
             [
              0,
              "#0d0887"
             ],
             [
              0.1111111111111111,
              "#46039f"
             ],
             [
              0.2222222222222222,
              "#7201a8"
             ],
             [
              0.3333333333333333,
              "#9c179e"
             ],
             [
              0.4444444444444444,
              "#bd3786"
             ],
             [
              0.5555555555555556,
              "#d8576b"
             ],
             [
              0.6666666666666666,
              "#ed7953"
             ],
             [
              0.7777777777777778,
              "#fb9f3a"
             ],
             [
              0.8888888888888888,
              "#fdca26"
             ],
             [
              1,
              "#f0f921"
             ]
            ],
            "type": "heatmap"
           }
          ],
          "heatmapgl": [
           {
            "colorbar": {
             "outlinewidth": 0,
             "ticks": ""
            },
            "colorscale": [
             [
              0,
              "#0d0887"
             ],
             [
              0.1111111111111111,
              "#46039f"
             ],
             [
              0.2222222222222222,
              "#7201a8"
             ],
             [
              0.3333333333333333,
              "#9c179e"
             ],
             [
              0.4444444444444444,
              "#bd3786"
             ],
             [
              0.5555555555555556,
              "#d8576b"
             ],
             [
              0.6666666666666666,
              "#ed7953"
             ],
             [
              0.7777777777777778,
              "#fb9f3a"
             ],
             [
              0.8888888888888888,
              "#fdca26"
             ],
             [
              1,
              "#f0f921"
             ]
            ],
            "type": "heatmapgl"
           }
          ],
          "histogram": [
           {
            "marker": {
             "pattern": {
              "fillmode": "overlay",
              "size": 10,
              "solidity": 0.2
             }
            },
            "type": "histogram"
           }
          ],
          "histogram2d": [
           {
            "colorbar": {
             "outlinewidth": 0,
             "ticks": ""
            },
            "colorscale": [
             [
              0,
              "#0d0887"
             ],
             [
              0.1111111111111111,
              "#46039f"
             ],
             [
              0.2222222222222222,
              "#7201a8"
             ],
             [
              0.3333333333333333,
              "#9c179e"
             ],
             [
              0.4444444444444444,
              "#bd3786"
             ],
             [
              0.5555555555555556,
              "#d8576b"
             ],
             [
              0.6666666666666666,
              "#ed7953"
             ],
             [
              0.7777777777777778,
              "#fb9f3a"
             ],
             [
              0.8888888888888888,
              "#fdca26"
             ],
             [
              1,
              "#f0f921"
             ]
            ],
            "type": "histogram2d"
           }
          ],
          "histogram2dcontour": [
           {
            "colorbar": {
             "outlinewidth": 0,
             "ticks": ""
            },
            "colorscale": [
             [
              0,
              "#0d0887"
             ],
             [
              0.1111111111111111,
              "#46039f"
             ],
             [
              0.2222222222222222,
              "#7201a8"
             ],
             [
              0.3333333333333333,
              "#9c179e"
             ],
             [
              0.4444444444444444,
              "#bd3786"
             ],
             [
              0.5555555555555556,
              "#d8576b"
             ],
             [
              0.6666666666666666,
              "#ed7953"
             ],
             [
              0.7777777777777778,
              "#fb9f3a"
             ],
             [
              0.8888888888888888,
              "#fdca26"
             ],
             [
              1,
              "#f0f921"
             ]
            ],
            "type": "histogram2dcontour"
           }
          ],
          "mesh3d": [
           {
            "colorbar": {
             "outlinewidth": 0,
             "ticks": ""
            },
            "type": "mesh3d"
           }
          ],
          "parcoords": [
           {
            "line": {
             "colorbar": {
              "outlinewidth": 0,
              "ticks": ""
             }
            },
            "type": "parcoords"
           }
          ],
          "pie": [
           {
            "automargin": true,
            "type": "pie"
           }
          ],
          "scatter": [
           {
            "fillpattern": {
             "fillmode": "overlay",
             "size": 10,
             "solidity": 0.2
            },
            "type": "scatter"
           }
          ],
          "scatter3d": [
           {
            "line": {
             "colorbar": {
              "outlinewidth": 0,
              "ticks": ""
             }
            },
            "marker": {
             "colorbar": {
              "outlinewidth": 0,
              "ticks": ""
             }
            },
            "type": "scatter3d"
           }
          ],
          "scattercarpet": [
           {
            "marker": {
             "colorbar": {
              "outlinewidth": 0,
              "ticks": ""
             }
            },
            "type": "scattercarpet"
           }
          ],
          "scattergeo": [
           {
            "marker": {
             "colorbar": {
              "outlinewidth": 0,
              "ticks": ""
             }
            },
            "type": "scattergeo"
           }
          ],
          "scattergl": [
           {
            "marker": {
             "colorbar": {
              "outlinewidth": 0,
              "ticks": ""
             }
            },
            "type": "scattergl"
           }
          ],
          "scattermapbox": [
           {
            "marker": {
             "colorbar": {
              "outlinewidth": 0,
              "ticks": ""
             }
            },
            "type": "scattermapbox"
           }
          ],
          "scatterpolar": [
           {
            "marker": {
             "colorbar": {
              "outlinewidth": 0,
              "ticks": ""
             }
            },
            "type": "scatterpolar"
           }
          ],
          "scatterpolargl": [
           {
            "marker": {
             "colorbar": {
              "outlinewidth": 0,
              "ticks": ""
             }
            },
            "type": "scatterpolargl"
           }
          ],
          "scatterternary": [
           {
            "marker": {
             "colorbar": {
              "outlinewidth": 0,
              "ticks": ""
             }
            },
            "type": "scatterternary"
           }
          ],
          "surface": [
           {
            "colorbar": {
             "outlinewidth": 0,
             "ticks": ""
            },
            "colorscale": [
             [
              0,
              "#0d0887"
             ],
             [
              0.1111111111111111,
              "#46039f"
             ],
             [
              0.2222222222222222,
              "#7201a8"
             ],
             [
              0.3333333333333333,
              "#9c179e"
             ],
             [
              0.4444444444444444,
              "#bd3786"
             ],
             [
              0.5555555555555556,
              "#d8576b"
             ],
             [
              0.6666666666666666,
              "#ed7953"
             ],
             [
              0.7777777777777778,
              "#fb9f3a"
             ],
             [
              0.8888888888888888,
              "#fdca26"
             ],
             [
              1,
              "#f0f921"
             ]
            ],
            "type": "surface"
           }
          ],
          "table": [
           {
            "cells": {
             "fill": {
              "color": "#EBF0F8"
             },
             "line": {
              "color": "white"
             }
            },
            "header": {
             "fill": {
              "color": "#C8D4E3"
             },
             "line": {
              "color": "white"
             }
            },
            "type": "table"
           }
          ]
         },
         "layout": {
          "annotationdefaults": {
           "arrowcolor": "#2a3f5f",
           "arrowhead": 0,
           "arrowwidth": 1
          },
          "autotypenumbers": "strict",
          "coloraxis": {
           "colorbar": {
            "outlinewidth": 0,
            "ticks": ""
           }
          },
          "colorscale": {
           "diverging": [
            [
             0,
             "#8e0152"
            ],
            [
             0.1,
             "#c51b7d"
            ],
            [
             0.2,
             "#de77ae"
            ],
            [
             0.3,
             "#f1b6da"
            ],
            [
             0.4,
             "#fde0ef"
            ],
            [
             0.5,
             "#f7f7f7"
            ],
            [
             0.6,
             "#e6f5d0"
            ],
            [
             0.7,
             "#b8e186"
            ],
            [
             0.8,
             "#7fbc41"
            ],
            [
             0.9,
             "#4d9221"
            ],
            [
             1,
             "#276419"
            ]
           ],
           "sequential": [
            [
             0,
             "#0d0887"
            ],
            [
             0.1111111111111111,
             "#46039f"
            ],
            [
             0.2222222222222222,
             "#7201a8"
            ],
            [
             0.3333333333333333,
             "#9c179e"
            ],
            [
             0.4444444444444444,
             "#bd3786"
            ],
            [
             0.5555555555555556,
             "#d8576b"
            ],
            [
             0.6666666666666666,
             "#ed7953"
            ],
            [
             0.7777777777777778,
             "#fb9f3a"
            ],
            [
             0.8888888888888888,
             "#fdca26"
            ],
            [
             1,
             "#f0f921"
            ]
           ],
           "sequentialminus": [
            [
             0,
             "#0d0887"
            ],
            [
             0.1111111111111111,
             "#46039f"
            ],
            [
             0.2222222222222222,
             "#7201a8"
            ],
            [
             0.3333333333333333,
             "#9c179e"
            ],
            [
             0.4444444444444444,
             "#bd3786"
            ],
            [
             0.5555555555555556,
             "#d8576b"
            ],
            [
             0.6666666666666666,
             "#ed7953"
            ],
            [
             0.7777777777777778,
             "#fb9f3a"
            ],
            [
             0.8888888888888888,
             "#fdca26"
            ],
            [
             1,
             "#f0f921"
            ]
           ]
          },
          "colorway": [
           "#636efa",
           "#EF553B",
           "#00cc96",
           "#ab63fa",
           "#FFA15A",
           "#19d3f3",
           "#FF6692",
           "#B6E880",
           "#FF97FF",
           "#FECB52"
          ],
          "font": {
           "color": "#2a3f5f"
          },
          "geo": {
           "bgcolor": "white",
           "lakecolor": "white",
           "landcolor": "#E5ECF6",
           "showlakes": true,
           "showland": true,
           "subunitcolor": "white"
          },
          "hoverlabel": {
           "align": "left"
          },
          "hovermode": "closest",
          "mapbox": {
           "style": "light"
          },
          "paper_bgcolor": "white",
          "plot_bgcolor": "#E5ECF6",
          "polar": {
           "angularaxis": {
            "gridcolor": "white",
            "linecolor": "white",
            "ticks": ""
           },
           "bgcolor": "#E5ECF6",
           "radialaxis": {
            "gridcolor": "white",
            "linecolor": "white",
            "ticks": ""
           }
          },
          "scene": {
           "xaxis": {
            "backgroundcolor": "#E5ECF6",
            "gridcolor": "white",
            "gridwidth": 2,
            "linecolor": "white",
            "showbackground": true,
            "ticks": "",
            "zerolinecolor": "white"
           },
           "yaxis": {
            "backgroundcolor": "#E5ECF6",
            "gridcolor": "white",
            "gridwidth": 2,
            "linecolor": "white",
            "showbackground": true,
            "ticks": "",
            "zerolinecolor": "white"
           },
           "zaxis": {
            "backgroundcolor": "#E5ECF6",
            "gridcolor": "white",
            "gridwidth": 2,
            "linecolor": "white",
            "showbackground": true,
            "ticks": "",
            "zerolinecolor": "white"
           }
          },
          "shapedefaults": {
           "line": {
            "color": "#2a3f5f"
           }
          },
          "ternary": {
           "aaxis": {
            "gridcolor": "white",
            "linecolor": "white",
            "ticks": ""
           },
           "baxis": {
            "gridcolor": "white",
            "linecolor": "white",
            "ticks": ""
           },
           "bgcolor": "#E5ECF6",
           "caxis": {
            "gridcolor": "white",
            "linecolor": "white",
            "ticks": ""
           }
          },
          "title": {
           "x": 0.05
          },
          "xaxis": {
           "automargin": true,
           "gridcolor": "white",
           "linecolor": "white",
           "ticks": "",
           "title": {
            "standoff": 15
           },
           "zerolinecolor": "white",
           "zerolinewidth": 2
          },
          "yaxis": {
           "automargin": true,
           "gridcolor": "white",
           "linecolor": "white",
           "ticks": "",
           "title": {
            "standoff": 15
           },
           "zerolinecolor": "white",
           "zerolinewidth": 2
          }
         }
        },
        "title": {
         "text": "Ratio between norms of corrupted and clean activations (removed outliers above 2)"
        },
        "xaxis": {
         "anchor": "y",
         "domain": [
          0,
          1
         ],
         "title": {
          "text": "Relative difference"
         }
        },
        "xaxis2": {
         "anchor": "y2",
         "domain": [
          0,
          1
         ]
        },
        "xaxis3": {
         "anchor": "y3",
         "domain": [
          0,
          1
         ]
        },
        "xaxis4": {
         "anchor": "y4",
         "domain": [
          0,
          1
         ]
        },
        "yaxis": {
         "anchor": "x",
         "domain": [
          0.84375,
          1
         ],
         "title": {
          "text": "Probability"
         }
        },
        "yaxis2": {
         "anchor": "x2",
         "domain": [
          0.5625,
          0.71875
         ]
        },
        "yaxis3": {
         "anchor": "x3",
         "domain": [
          0.28125,
          0.4375
         ]
        },
        "yaxis4": {
         "anchor": "x4",
         "domain": [
          0,
          0.15625
         ]
        }
       }
      }
     },
     "metadata": {},
     "output_type": "display_data"
    }
   ],
   "source": [
    "def test_post_ablation_norms(n_tokens=10_000, n_features: int | None = None):\n",
    "    n_features_is_fixed = n_features is not None\n",
    "\n",
    "    tokens = lu.gib_tokens(n_tokens=n_tokens).reshape(-1, 32)\n",
    "\n",
    "    results = []\n",
    "    for prompt in tqdm(tokens):\n",
    "        names_filter = lambda x: 'resid' in x or 'out' in x\n",
    "        _, clean_cache = model.run_with_cache(prompt, names_filter=names_filter)\n",
    "\n",
    "        # (note that I'm skipping resid_pre since it's always 0 — it's before the intervention)\n",
    "        clean_norms = get_all_norms(clean_cache)[1:, -1]\n",
    "\n",
    "        sae_acts = lu.get_sae_acts(saes['attn_out'], clean_cache['attn_out', 0][0, -1])\n",
    "        sae_active_feats = torch.nonzero(sae_acts).squeeze()\n",
    "\n",
    "        # pick a random subset\n",
    "        if not n_features_is_fixed:\n",
    "            n_features = torch.randint(1, sae_active_feats.shape[0], (1,)).item()\n",
    "        feature_to_ablate = sae_active_feats[torch.randperm(sae_active_feats.shape[0])[:n_features]]\n",
    "\n",
    "        with model.hooks(fwd_hooks=[(get_act_name('attn_out', 0),\n",
    "                                    lu.ablate_sae_feature(saes, feature_to_ablate))]):\n",
    "            _, corrupted_cache = model.run_with_cache(prompt, names_filter=names_filter)\n",
    "            corrupted_norms = get_all_norms(corrupted_cache)[1:, -1]\n",
    "\n",
    "        results.append(corrupted_norms / (clean_norms + 1e-9))\n",
    "    results = torch.stack(results)\n",
    "\n",
    "    print(f\"Means: {results.mean(dim=0)}\")\n",
    "    print(f\"Stds: {results.std(dim=0)}\")\n",
    "\n",
    "    # create histograms for each hook point (as subplots)\n",
    "    hook_names = ['attn_out', 'resid_mid', 'mlp_out', 'resid_post']\n",
    "    fig = make_subplots(rows=len(hook_names), cols=1, subplot_titles=hook_names)\n",
    "\n",
    "    for i, name in enumerate(hook_names):\n",
    "        # remove outliers from the histogram (anything above 2)\n",
    "        results_filtered = results[:, i][results[:, i] < 2]\n",
    "        \n",
    "        fig.add_trace(go.Histogram(x=results_filtered,\n",
    "                                histnorm='probability',\n",
    "                                nbinsx=300,\n",
    "                                name=name),\n",
    "                    row=i+1, col=1)  # Update row for each subplot\n",
    "\n",
    "    fig.update_layout(height=300*len(hook_names),  # Adjust height based on number of subplots\n",
    "                    title_text='Ratio between norms of corrupted and clean activations ' +\n",
    "                        f'(removed outliers above 2{f\" n_features={n_features}\" if n_features_is_fixed else \"\"})',\n",
    "                    xaxis_title_text='Relative difference',\n",
    "                    yaxis_title_text='Probability')\n",
    "\n",
    "    # Update xaxis and yaxis titles for each subplot if needed\n",
    "    # This is just an example for the first subplot\n",
    "    fig.update_xaxes(title_text='Relative difference', row=1, col=1)\n",
    "    fig.update_yaxes(title_text='Probability', row=1, col=1)\n",
    "\n",
    "    # Show the figure\n",
    "    fig.show()\n",
    "test_post_ablation_norms()"
   ]
  },
  {
   "cell_type": "markdown",
   "metadata": {},
   "source": [
    "Let's try the same thing, but this time force it to only ablate 3 features at a time."
   ]
  },
  {
   "cell_type": "code",
   "execution_count": 16,
   "metadata": {},
   "outputs": [
    {
     "data": {
      "application/vnd.jupyter.widget-view+json": {
       "model_id": "87be3ba17d474d94ba7d16161d540cd5",
       "version_major": 2,
       "version_minor": 0
      },
      "text/plain": [
       "Resolving data files:   0%|          | 0/23 [00:00<?, ?it/s]"
      ]
     },
     "metadata": {},
     "output_type": "display_data"
    },
    {
     "name": "stderr",
     "output_type": "stream",
     "text": [
      "100%|██████████| 10/10 [00:00<00:00, 10.01it/s]\n",
      "100%|██████████| 320/320 [00:11<00:00, 28.32it/s]"
     ]
    },
    {
     "name": "stdout",
     "output_type": "stream",
     "text": [
      "Means: tensor([0.9765, 0.9803, 1.0018, 1.0017])\n",
      "Stds: tensor([0.0386, 0.0338, 0.0512, 0.0507])\n"
     ]
    },
    {
     "name": "stderr",
     "output_type": "stream",
     "text": [
      "\n"
     ]
    },
    {
     "data": {
      "application/vnd.plotly.v1+json": {
       "config": {
        "plotlyServerURL": "https://plot.ly"
       },
       "data": [
        {
         "histnorm": "probability",
         "name": "attn_out",
         "nbinsx": 300,
         "type": "histogram",
         "x": [
          0.8793562054634094,
          1.0001106262207031,
          1.0002022981643677,
          0.9906432628631592,
          0.9992312788963318,
          0.9880220890045166,
          0.9284923672676086,
          0.9727396965026855,
          1.0003306865692139,
          0.9894561171531677,
          0.9598759412765503,
          0.9916166663169861,
          0.9920123815536499,
          0.9580501317977905,
          0.9982799291610718,
          0.9382069110870361,
          0.9739201068878174,
          0.7873197197914124,
          0.9999945759773254,
          0.9555991888046265,
          0.9921466708183289,
          0.9878008961677551,
          0.9720175266265869,
          0.9997081756591797,
          0.9772804379463196,
          0.9998469948768616,
          0.9799308180809021,
          0.9526916146278381,
          0.9810089468955994,
          0.8329172134399414,
          0.9964059591293335,
          0.9999436140060425,
          0.9813762307167053,
          0.984869658946991,
          0.9868366718292236,
          1.0168291330337524,
          0.9822589755058289,
          0.9607924818992615,
          0.9990038275718689,
          0.9709758162498474,
          1.0023444890975952,
          0.957795262336731,
          0.9997777342796326,
          0.9732762575149536,
          0.9816021919250488,
          1.0003546476364136,
          0.9632539749145508,
          0.9252103567123413,
          0.959266185760498,
          0.9846799373626709,
          0.9783021211624146,
          0.9995752573013306,
          0.9929009675979614,
          0.9998125433921814,
          0.9663571119308472,
          0.9999942779541016,
          0.9594948291778564,
          0.9841375946998596,
          0.981998860836029,
          0.9727402925491333,
          0.9853898286819458,
          0.9995643496513367,
          0.6174097061157227,
          0.9070362448692322,
          0.9018322229385376,
          1.0000807046890259,
          0.9942922592163086,
          0.9844817519187927,
          0.9997895359992981,
          0.9996443390846252,
          0.999559223651886,
          1.0004541873931885,
          0.9992971420288086,
          0.9751518964767456,
          0.9857617020606995,
          0.9880185723304749,
          0.9772337675094604,
          0.9998314380645752,
          1.0015368461608887,
          0.8900153040885925,
          0.9833086133003235,
          0.9823519587516785,
          0.8885172009468079,
          0.9830955266952515,
          0.9803019165992737,
          0.8507601618766785,
          0.9916034936904907,
          0.9692850708961487,
          0.9823032021522522,
          0.9775862097740173,
          0.98637455701828,
          0.999502956867218,
          1.0002565383911133,
          0.9821758270263672,
          0.9726428985595703,
          0.9663709998130798,
          0.9706411957740784,
          0.9900555610656738,
          0.9994831681251526,
          0.9826593995094299,
          0.9567233920097351,
          1.00006902217865,
          0.9911669492721558,
          1.0000762939453125,
          0.9997538328170776,
          0.9995338916778564,
          0.9934296011924744,
          0.9829024076461792,
          0.9857460260391235,
          0.9938856363296509,
          0.9842847585678101,
          1.003760576248169,
          0.9945284128189087,
          0.9905751943588257,
          1.0000396966934204,
          0.9947169423103333,
          0.9952296018600464,
          0.9804332256317139,
          0.9522147178649902,
          0.9889019131660461,
          0.9860961437225342,
          0.9820757508277893,
          0.9622992277145386,
          1.000251054763794,
          0.9995223879814148,
          0.9990717172622681,
          0.9945875406265259,
          0.9994017481803894,
          0.9667844176292419,
          0.9999769926071167,
          0.9995519518852234,
          0.9887387752532959,
          0.9770047664642334,
          0.9887202978134155,
          0.9963346123695374,
          0.9980589747428894,
          0.974920928478241,
          0.9992902874946594,
          0.9803210496902466,
          0.9998378157615662,
          0.9704533219337463,
          0.9991833567619324,
          0.9848757982254028,
          0.9992291927337646,
          0.9590069055557251,
          0.9995984435081482,
          0.9455406069755554,
          0.9853897094726562,
          0.9503790736198425,
          0.9934616088867188,
          1.000197410583496,
          0.9972119331359863,
          0.9531005024909973,
          0.9979665279388428,
          0.9615796208381653,
          0.9921144843101501,
          0.9080689549446106,
          0.9850810766220093,
          0.9631231427192688,
          0.9936560988426208,
          0.9922714233398438,
          0.9443864822387695,
          0.9943670630455017,
          0.9888296723365784,
          0.9496383666992188,
          1.0006686449050903,
          1.000131607055664,
          0.9728307723999023,
          1.000230312347412,
          0.997057318687439,
          0.9868527054786682,
          1.0075119733810425,
          0.9994937777519226,
          1.0003511905670166,
          0.983177661895752,
          0.9890664219856262,
          0.9804608225822449,
          0.9820687770843506,
          0.9949214458465576,
          0.9815607070922852,
          0.9403812885284424,
          0.9913455247879028,
          1.000186562538147,
          0.9998498558998108,
          0.9997870326042175,
          0.9507942199707031,
          0.9999454021453857,
          0.9802761077880859,
          0.9721438884735107,
          0.971754789352417,
          0.9777801036834717,
          0.9719723463058472,
          0.9691455364227295,
          0.994803249835968,
          0.9845114946365356,
          0.991666853427887,
          0.9554907083511353,
          1.0003266334533691,
          0.8982682824134827,
          0.9235738515853882,
          1.0066291093826294,
          0.9476970434188843,
          1.0000827312469482,
          0.99473637342453,
          0.9961457848548889,
          0.9922888875007629,
          0.9217289090156555,
          0.9825474619865417,
          0.9580897688865662,
          0.9864574074745178,
          0.951402485370636,
          0.8773975372314453,
          0.9744548797607422,
          1.0002614259719849,
          0.8689418435096741,
          0.9997736215591431,
          0.9934347867965698,
          0.9998603463172913,
          0.9749538898468018,
          0.9703124165534973,
          0.9999380111694336,
          0.9997391700744629,
          0.9998889565467834,
          0.9990631937980652,
          0.9372008442878723,
          0.9887025952339172,
          0.9914836883544922,
          0.9961718916893005,
          0.999023973941803,
          1.0005351305007935,
          0.9272276163101196,
          0.9972628355026245,
          0.9895479679107666,
          0.9636779427528381,
          0.9936040043830872,
          1.0001882314682007,
          0.9617846012115479,
          0.9995773434638977,
          0.9996110200881958,
          0.9805211424827576,
          1.0005438327789307,
          0.974065363407135,
          0.9592538475990295,
          0.999821662902832,
          1.0020233392715454,
          0.8680333495140076,
          0.9862777590751648,
          0.9995803236961365,
          0.9994366765022278,
          1.0004462003707886,
          1.0000531673431396,
          0.9974068999290466,
          1.000488042831421,
          0.998206377029419,
          0.9998898506164551,
          1.0001567602157593,
          0.9708225727081299,
          1.0059587955474854,
          0.9882673621177673,
          0.9791340231895447,
          0.8849312663078308,
          0.9879341721534729,
          0.9786780476570129,
          0.9963325262069702,
          0.9830302000045776,
          0.889430820941925,
          0.9853953719139099,
          0.9973666071891785,
          0.9754499197006226,
          0.9643582701683044,
          0.9218396544456482,
          0.990649938583374,
          0.86845463514328,
          1.0004264116287231,
          0.9939516186714172,
          0.9994732141494751,
          0.9916543364524841,
          0.9775373935699463,
          0.9925987124443054,
          0.8793057799339294,
          0.9799982309341431,
          1.000349521636963,
          0.8724651336669922,
          0.8545904159545898,
          0.9325796961784363,
          0.999674916267395,
          0.9285978078842163,
          0.9764034152030945,
          0.9167508482933044,
          0.9944050908088684,
          1.0007394552230835,
          0.9888598918914795,
          1.000076413154602,
          0.9798159003257751,
          0.999935507774353,
          0.960602343082428,
          0.9997169375419617,
          0.9866581559181213,
          1.0000873804092407,
          0.9650072455406189,
          0.9947023391723633,
          0.9882110953330994,
          0.9994533658027649,
          0.9997801780700684,
          0.9959610104560852,
          0.938677191734314,
          0.9823257923126221,
          0.9966646432876587,
          0.9653736352920532,
          0.9885371327400208,
          0.9759128093719482,
          0.9904566407203674,
          0.8723783493041992,
          0.9738893508911133,
          0.9997193813323975,
          0.9987379312515259,
          0.9957726001739502,
          0.9664278626441956,
          0.9874444007873535,
          0.9997403025627136
         ],
         "xaxis": "x",
         "yaxis": "y"
        },
        {
         "histnorm": "probability",
         "name": "resid_mid",
         "nbinsx": 300,
         "type": "histogram",
         "x": [
          0.9033326506614685,
          1.000315546989441,
          0.9999962449073792,
          0.992223858833313,
          1.0008832216262817,
          0.9876565337181091,
          0.9345518946647644,
          0.9801199436187744,
          0.9999560117721558,
          0.9908583164215088,
          0.9680996537208557,
          0.9907468557357788,
          0.9940797686576843,
          0.9618363380432129,
          0.9959491491317749,
          0.9480176568031311,
          0.9819288849830627,
          0.856441080570221,
          0.9999786019325256,
          0.9656294584274292,
          0.9928632378578186,
          0.9892751574516296,
          0.9771737456321716,
          0.9998435378074646,
          0.9797730445861816,
          0.99994295835495,
          0.9835172295570374,
          0.9616672992706299,
          0.9823894500732422,
          0.8493083119392395,
          0.9968854784965515,
          0.9998677968978882,
          0.9918286800384521,
          0.9930347800254822,
          0.9881091117858887,
          1.0178675651550293,
          0.9847891926765442,
          0.9663457870483398,
          0.9991078972816467,
          0.9847227931022644,
          1.000884771347046,
          0.9587956070899963,
          0.9999178647994995,
          0.9763990044593811,
          0.9812579154968262,
          1.0002652406692505,
          0.963887631893158,
          0.9267175197601318,
          0.9662224650382996,
          0.9843688011169434,
          0.9840736985206604,
          0.9995859265327454,
          0.9962403178215027,
          1.0002206563949585,
          0.9698216319084167,
          1.0001401901245117,
          0.9636607766151428,
          0.9883646368980408,
          0.9821819067001343,
          0.9811641573905945,
          0.9894376397132874,
          0.999525785446167,
          0.6545907855033875,
          0.9265873432159424,
          0.9312446713447571,
          0.9997962117195129,
          0.9932895302772522,
          0.9849679470062256,
          0.9999736547470093,
          0.9996989369392395,
          0.999756932258606,
          1.0004146099090576,
          0.9994479417800903,
          0.9819473028182983,
          0.9831414222717285,
          0.9932205677032471,
          0.9853051900863647,
          0.9999975562095642,
          1.0026142597198486,
          0.9112585186958313,
          0.9917568564414978,
          0.9859211444854736,
          0.8955000042915344,
          0.9879306554794312,
          0.9796237349510193,
          0.8592147827148438,
          0.9889563918113708,
          0.9730879068374634,
          0.9853042960166931,
          0.9793129563331604,
          0.9987043142318726,
          0.9994345307350159,
          1.0001988410949707,
          0.9886758923530579,
          0.9741129279136658,
          0.9717833995819092,
          0.9787242412567139,
          0.9930933117866516,
          0.9994431734085083,
          0.9891120195388794,
          0.9669418334960938,
          1.0000041723251343,
          0.9922098517417908,
          1.0002938508987427,
          0.9998176097869873,
          0.9997716546058655,
          0.9935547709465027,
          0.9894316792488098,
          0.9936808943748474,
          0.9958770871162415,
          0.9872928857803345,
          1.0046457052230835,
          0.9940522909164429,
          0.9913946986198425,
          1.0001307725906372,
          0.9955111145973206,
          0.9962775707244873,
          0.9814953207969666,
          0.9526786208152771,
          0.9952329397201538,
          0.9904595613479614,
          0.9925590753555298,
          0.9703503847122192,
          1.0002514123916626,
          0.9997273087501526,
          0.9993142485618591,
          0.9923081398010254,
          0.9994962811470032,
          0.9684543013572693,
          0.9998947978019714,
          0.9996631145477295,
          0.9904956817626953,
          0.9847014546394348,
          0.9990723729133606,
          0.9928733706474304,
          0.998055636882782,
          0.9748786091804504,
          0.9995288848876953,
          0.9810060858726501,
          0.9998066425323486,
          0.9732572436332703,
          0.9992864727973938,
          0.986429750919342,
          0.9977012276649475,
          0.9716975688934326,
          0.9994440078735352,
          0.9510931372642517,
          0.9890055656433105,
          0.9581063985824585,
          0.99490886926651,
          1.0001939535140991,
          0.9924933314323425,
          0.9601492881774902,
          0.9971928000450134,
          0.9642177820205688,
          0.9917308688163757,
          0.9131374955177307,
          0.996415376663208,
          0.9627948999404907,
          0.9932081699371338,
          1.0266358852386475,
          0.9400712847709656,
          0.9934647679328918,
          0.9836660027503967,
          0.9513875246047974,
          1.0006771087646484,
          1.000161051750183,
          0.9738802909851074,
          1.0003788471221924,
          0.9978876113891602,
          0.9864908456802368,
          1.006327509880066,
          0.9994730353355408,
          1.0003660917282104,
          0.9934785962104797,
          0.9865887761116028,
          0.9824442863464355,
          0.9873589277267456,
          0.9943006634712219,
          0.9861001372337341,
          0.9576408267021179,
          0.9912935495376587,
          1.0001031160354614,
          0.9996798634529114,
          0.9997358918190002,
          0.9676723480224609,
          0.9996528029441833,
          0.9847682118415833,
          0.9798644185066223,
          0.9836046695709229,
          0.9855853319168091,
          0.9759092330932617,
          0.9797041416168213,
          0.9967489838600159,
          0.9895515441894531,
          0.9915486574172974,
          0.9659720659255981,
          1.0004222393035889,
          0.9288850426673889,
          0.9482584595680237,
          1.0131187438964844,
          0.9545062184333801,
          1.0000709295272827,
          0.9964567422866821,
          0.9970051646232605,
          0.9950783252716064,
          0.9392189979553223,
          0.9853202700614929,
          0.9634513854980469,
          0.9867880940437317,
          0.9607658982276917,
          0.8936126828193665,
          0.9764618873596191,
          1.0001462697982788,
          0.9006486535072327,
          0.9998211860656738,
          0.9945068955421448,
          0.9998627305030823,
          0.9781149625778198,
          0.9728737473487854,
          0.9999223351478577,
          0.9996843934059143,
          0.9997547268867493,
          0.9995254278182983,
          0.9503495693206787,
          0.9884623885154724,
          0.9918376207351685,
          0.9974965453147888,
          0.9993488192558289,
          1.0003631114959717,
          0.9402585029602051,
          0.9950891137123108,
          0.9925105571746826,
          0.9711664319038391,
          0.9958259463310242,
          0.9999405741691589,
          0.968292772769928,
          0.999809741973877,
          0.999725878238678,
          0.9848794937133789,
          1.0004677772521973,
          0.9837856888771057,
          0.9646029472351074,
          0.9995641708374023,
          1.0030204057693481,
          0.9301408529281616,
          0.983079195022583,
          0.9995906949043274,
          0.9994938373565674,
          1.0002076625823975,
          1.0000665187835693,
          0.9962204098701477,
          0.999545693397522,
          1.0010051727294922,
          0.9998365640640259,
          1.0001145601272583,
          0.9825516939163208,
          1.005056381225586,
          0.991062581539154,
          0.9858972430229187,
          0.9030371308326721,
          0.9883216619491577,
          0.979301929473877,
          0.9952807426452637,
          0.9704087972640991,
          0.8996915221214294,
          0.9864122271537781,
          0.99675452709198,
          0.9833605885505676,
          0.9653181433677673,
          0.9092218279838562,
          0.9917646646499634,
          0.8687810301780701,
          1.000317931175232,
          0.9957618713378906,
          0.9995698928833008,
          0.9925094842910767,
          0.9775114059448242,
          0.9923778772354126,
          0.8864015936851501,
          0.982443630695343,
          1.0002652406692505,
          0.8717723488807678,
          0.8522312045097351,
          0.9405243992805481,
          0.999653160572052,
          0.9411317706108093,
          0.97933429479599,
          0.9348493218421936,
          0.9944336414337158,
          0.9989261627197266,
          0.9882110953330994,
          1.000166416168213,
          0.9813286066055298,
          0.9996960163116455,
          0.9667218327522278,
          0.999889612197876,
          0.9887866973876953,
          0.9999963045120239,
          0.9690079092979431,
          0.9957883358001709,
          0.9900779724121094,
          0.9995766878128052,
          0.9997211694717407,
          0.99778813123703,
          0.9431591629981995,
          0.9731398820877075,
          0.9977976083755493,
          0.9721563458442688,
          0.9905704259872437,
          0.9809285402297974,
          0.9979623556137085,
          0.8879266381263733,
          0.9761996269226074,
          0.999805212020874,
          0.9998988509178162,
          0.9959048628807068,
          0.9706897139549255,
          0.9885585308074951,
          1.0001283884048462
         ],
         "xaxis": "x2",
         "yaxis": "y2"
        },
        {
         "histnorm": "probability",
         "name": "mlp_out",
         "nbinsx": 300,
         "type": "histogram",
         "x": [
          1.1086868047714233,
          0.9991496205329895,
          0.9969031810760498,
          1.0050575733184814,
          1.0128262042999268,
          0.9888620376586914,
          1.018065333366394,
          1.0338234901428223,
          0.9979323744773865,
          0.998879075050354,
          1.0137041807174683,
          1.0114954710006714,
          1.0093953609466553,
          1.0394065380096436,
          1.0200740098953247,
          1.0738359689712524,
          0.9842323660850525,
          1.0620448589324951,
          0.9996730089187622,
          0.9867918491363525,
          0.9947498440742493,
          1.0237913131713867,
          0.9870056509971619,
          0.9993528127670288,
          0.9922406673431396,
          1.0017807483673096,
          1.0124797821044922,
          0.9668450355529785,
          0.9236394762992859,
          1.0606838464736938,
          1.0111597776412964,
          0.9996263384819031,
          1.0278058052062988,
          1.0225729942321777,
          0.9919797778129578,
          1.096585988998413,
          1.0079933404922485,
          1.0256842374801636,
          1.0001825094223022,
          1.0546249151229858,
          1.0294009447097778,
          0.9366698265075684,
          0.9988994002342224,
          0.9912525415420532,
          0.9917433857917786,
          1.0011893510818481,
          0.9765434861183167,
          1.1963977813720703,
          1.0110762119293213,
          0.9517683982849121,
          0.9927177429199219,
          0.9976911544799805,
          1.006341814994812,
          1.0009655952453613,
          1.0052764415740967,
          0.9991881847381592,
          0.9960678219795227,
          1.0072706937789917,
          0.9653607606887817,
          0.990689754486084,
          1.0296130180358887,
          1.0020860433578491,
          0.6538617610931396,
          0.9951105713844299,
          1.0770649909973145,
          0.9975386261940002,
          0.9855654835700989,
          0.9594975113868713,
          1.0017889738082886,
          1.0013870000839233,
          0.999186098575592,
          1.0018839836120605,
          0.9991993308067322,
          1.011177659034729,
          0.9944304823875427,
          0.9647104740142822,
          0.9966874718666077,
          1.00091552734375,
          0.9812712073326111,
          1.0881125926971436,
          0.9821476936340332,
          0.9329041838645935,
          1.0016599893569946,
          1.0096101760864258,
          1.033775806427002,
          1.0457699298858643,
          0.9740727543830872,
          1.0398313999176025,
          1.0066324472427368,
          0.9833726286888123,
          1.0316804647445679,
          1.0015335083007812,
          0.9995270371437073,
          0.9982509016990662,
          1.0194768905639648,
          1.010906457901001,
          1.0416185855865479,
          1.0153082609176636,
          1.0013986825942993,
          0.9284602403640747,
          1.0176349878311157,
          1.0002449750900269,
          0.9758954644203186,
          1.0158778429031372,
          1.000160813331604,
          1.0004485845565796,
          1.0083461999893188,
          0.9028353095054626,
          0.9986504316329956,
          1.0082637071609497,
          1.009122371673584,
          0.9919829964637756,
          1.0073199272155762,
          0.9935283064842224,
          0.9994650483131409,
          1.0061591863632202,
          1.0073460340499878,
          1.010707974433899,
          0.9820525646209717,
          0.9798009991645813,
          0.9929956197738647,
          0.9960107207298279,
          0.9949381947517395,
          1.0006767511367798,
          1.0007866621017456,
          1.0001966953277588,
          0.9658888578414917,
          0.9976500868797302,
          0.9894081950187683,
          0.9991518259048462,
          0.9974957704544067,
          1.0174884796142578,
          0.9828082919120789,
          0.9526602029800415,
          1.0033200979232788,
          0.9878017902374268,
          1.0172361135482788,
          1.000198483467102,
          0.9733684062957764,
          1.0018914937973022,
          0.9894752502441406,
          0.9992910623550415,
          1.0036691427230835,
          1.0307368040084839,
          0.9789511561393738,
          0.9989617466926575,
          0.9601893424987793,
          0.9889032244682312,
          1.0035066604614258,
          0.9942858815193176,
          0.9991559982299805,
          0.9312520623207092,
          1.0209153890609741,
          1.020292043685913,
          0.9574909210205078,
          0.9697866439819336,
          1.046830654144287,
          1.0032376050949097,
          0.9777527451515198,
          0.9968343377113342,
          1.544193983078003,
          0.9593706727027893,
          0.9814465641975403,
          0.9725630879402161,
          0.9806644320487976,
          0.9998676776885986,
          1.0012613534927368,
          1.0883049964904785,
          1.0010888576507568,
          0.9901658296585083,
          1.0074065923690796,
          1.0081719160079956,
          0.9980883002281189,
          1.0004682540893555,
          1.0179086923599243,
          0.9603566527366638,
          1.0169450044631958,
          0.9858364462852478,
          1.0110971927642822,
          1.0048893690109253,
          0.990281879901886,
          1.0413227081298828,
          0.9972987174987793,
          1.0114281177520752,
          0.9989816546440125,
          1.0753206014633179,
          0.9978649616241455,
          1.0034914016723633,
          0.96265709400177,
          0.9676269888877869,
          0.9697868227958679,
          1.0628963708877563,
          0.9642933011054993,
          0.9961321949958801,
          1.0234464406967163,
          0.9704226851463318,
          0.9819865226745605,
          0.9997978806495667,
          1.1024240255355835,
          1.2053089141845703,
          1.0286146402359009,
          1.0152099132537842,
          0.9994969367980957,
          0.9965285658836365,
          1.006176233291626,
          0.981931209564209,
          0.9571125507354736,
          1.003453016281128,
          0.9789226651191711,
          0.9718949198722839,
          1.0182223320007324,
          1.0019475221633911,
          0.9380839467048645,
          0.9989351034164429,
          0.969718337059021,
          1.000964879989624,
          0.9839933514595032,
          1.0010826587677002,
          0.9440339207649231,
          1.015079140663147,
          1.0013148784637451,
          0.9999012351036072,
          1.0018900632858276,
          1.000014305114746,
          0.9265620708465576,
          0.9807578325271606,
          1.001471996307373,
          0.9998964071273804,
          0.9960312843322754,
          1.001062273979187,
          0.9405933022499084,
          0.994157612323761,
          0.991549015045166,
          0.9885549545288086,
          0.9970682859420776,
          0.9973104596138,
          0.989766001701355,
          1.001010537147522,
          1.0016415119171143,
          1.0065877437591553,
          1.0020607709884644,
          1.0192217826843262,
          0.9402772188186646,
          0.9986209273338318,
          1.1148414611816406,
          1.1840945482254028,
          0.988767147064209,
          0.99986332654953,
          1.0013558864593506,
          0.9995123744010925,
          0.9999637603759766,
          1.0042164325714111,
          1.0015645027160645,
          1.0131947994232178,
          1.0006732940673828,
          1.0004563331604004,
          1.0272728204727173,
          1.0056852102279663,
          1.0063968896865845,
          1.003170132637024,
          1.1433136463165283,
          1.0100975036621094,
          1.0202136039733887,
          0.9978373050689697,
          1.0160131454467773,
          0.9182006120681763,
          1.0124454498291016,
          1.0026954412460327,
          0.9520384669303894,
          0.9599388837814331,
          1.0402288436889648,
          0.9903371334075928,
          1.035833716392517,
          1.0010862350463867,
          0.9612733721733093,
          1.0011378526687622,
          1.0045758485794067,
          1.0003515481948853,
          1.0179656744003296,
          0.9464316964149475,
          0.9945873618125916,
          1.000172734260559,
          0.8443102836608887,
          0.8985609412193298,
          1.020941138267517,
          1.0002832412719727,
          0.9928668737411499,
          0.9654027223587036,
          0.9884853363037109,
          0.9781021475791931,
          1.006610631942749,
          0.9812086820602417,
          0.9997868537902832,
          0.9863507747650146,
          0.9993637800216675,
          0.9980423450469971,
          1.0002577304840088,
          0.9894200563430786,
          0.998755693435669,
          0.9593721032142639,
          1.0049434900283813,
          1.0449652671813965,
          1.0005472898483276,
          0.9996749758720398,
          0.995258092880249,
          1.0209436416625977,
          0.9241955280303955,
          1.0026606321334839,
          1.0269405841827393,
          1.008432388305664,
          0.9809360504150391,
          1.0417671203613281,
          0.9752472639083862,
          0.9978165030479431,
          0.9987536072731018,
          1.0013693571090698,
          1.0082268714904785,
          1.0163626670837402,
          1.0312312841415405,
          0.9998809695243835
         ],
         "xaxis": "x3",
         "yaxis": "y3"
        },
        {
         "histnorm": "probability",
         "name": "resid_post",
         "nbinsx": 300,
         "type": "histogram",
         "x": [
          1.105294942855835,
          0.9994421601295471,
          0.9963507652282715,
          1.0046833753585815,
          1.0119502544403076,
          0.9929978847503662,
          1.0302644968032837,
          1.0299525260925293,
          0.9981837868690491,
          1.00126314163208,
          1.0116902589797974,
          1.0141685009002686,
          1.0065014362335205,
          1.034606695175171,
          1.0195711851119995,
          1.074621558189392,
          0.9925438165664673,
          1.0723484754562378,
          0.9997106194496155,
          0.9867181777954102,
          0.9941616058349609,
          1.0239105224609375,
          0.9874255061149597,
          0.9993537664413452,
          1.0058690309524536,
          1.0019168853759766,
          1.011495590209961,
          0.9831894636154175,
          0.9323209524154663,
          1.0487439632415771,
          1.0114243030548096,
          0.9998250007629395,
          1.020784854888916,
          1.0215122699737549,
          0.992324948310852,
          1.0875320434570312,
          1.0074750185012817,
          1.0328162908554077,
          1.000395655632019,
          1.0428519248962402,
          1.0207065343856812,
          0.9353573322296143,
          0.9989072680473328,
          0.9877806901931763,
          0.9954344034194946,
          1.0011612176895142,
          0.9707515835762024,
          1.2033441066741943,
          1.0176715850830078,
          0.9519116282463074,
          0.9889529347419739,
          0.9977359771728516,
          1.00409996509552,
          0.99932461977005,
          1.0099084377288818,
          0.9994375705718994,
          0.9935216307640076,
          1.0102070569992065,
          0.9614216089248657,
          0.9882767796516418,
          1.0202370882034302,
          1.001760721206665,
          0.6538821458816528,
          0.9946697354316711,
          1.064579725265503,
          0.9975569844245911,
          0.9837888479232788,
          0.9609881639480591,
          1.0016297101974487,
          1.0016021728515625,
          0.999485194683075,
          1.001620888710022,
          0.9993892312049866,
          1.011857271194458,
          0.9988338947296143,
          0.9692060947418213,
          0.9966046810150146,
          1.0005567073822021,
          0.9847278594970703,
          1.0891343355178833,
          0.9800841808319092,
          0.9328545928001404,
          1.0026510953903198,
          0.9999450445175171,
          1.0356347560882568,
          1.0469788312911987,
          0.9704025387763977,
          1.0403475761413574,
          1.0030300617218018,
          0.9940584897994995,
          1.0301883220672607,
          1.0014851093292236,
          0.9993945956230164,
          0.9962486624717712,
          1.019494891166687,
          1.0175279378890991,
          1.0410969257354736,
          1.013804316520691,
          1.0014888048171997,
          0.9274687170982361,
          1.0240652561187744,
          0.9999743700027466,
          0.9776526093482971,
          1.014413833618164,
          1.0004041194915771,
          1.0007057189941406,
          1.0077341794967651,
          0.9102709293365479,
          0.9997759461402893,
          1.0070486068725586,
          1.0057615041732788,
          0.9935890436172485,
          0.9940606951713562,
          0.9942216277122498,
          0.9993969798088074,
          1.0089188814163208,
          1.0084913969039917,
          1.0113104581832886,
          0.9730164408683777,
          0.9779747128486633,
          0.9947859644889832,
          0.9923607110977173,
          0.9977348446846008,
          1.0002800226211548,
          1.000836730003357,
          1.0002751350402832,
          0.9667164087295532,
          0.9974974989891052,
          0.9949779510498047,
          0.9989234209060669,
          0.9973741173744202,
          1.0145528316497803,
          0.9827613234519958,
          0.950430154800415,
          1.0010583400726318,
          0.9913007020950317,
          1.0178190469741821,
          1.0002919435501099,
          0.976555585861206,
          1.0019131898880005,
          0.9938719868659973,
          0.9992291331291199,
          0.9946231842041016,
          1.0331658124923706,
          0.9776603579521179,
          0.998761773109436,
          0.9593305587768555,
          0.9885510206222534,
          1.0075805187225342,
          0.9950733184814453,
          0.9991289973258972,
          0.9288603663444519,
          1.0322238206863403,
          1.0188250541687012,
          0.9603901505470276,
          0.9733371734619141,
          1.0644454956054688,
          1.0039328336715698,
          0.9779579043388367,
          0.9902858734130859,
          1.5584895610809326,
          0.9612804055213928,
          0.9805581569671631,
          0.961471438407898,
          0.9836667776107788,
          1.0000200271606445,
          1.000975489616394,
          1.0919445753097534,
          1.0009758472442627,
          0.9839491248130798,
          1.0024466514587402,
          1.004367709159851,
          0.99791020154953,
          0.9998739361763,
          1.0158019065856934,
          0.973139226436615,
          1.0206022262573242,
          0.9893859624862671,
          1.0137447118759155,
          1.0068960189819336,
          0.998127818107605,
          1.0420750379562378,
          0.9978246688842773,
          1.0097306966781616,
          0.9985820651054382,
          1.0703930854797363,
          0.9980618953704834,
          1.0041640996932983,
          0.9686076641082764,
          0.9744736552238464,
          0.9692810773849487,
          1.0597835779190063,
          0.9639937281608582,
          0.9947494864463806,
          1.01979660987854,
          0.9694137573242188,
          0.9768025279045105,
          1.0003633499145508,
          1.0949394702911377,
          1.1680810451507568,
          1.02122163772583,
          1.0051122903823853,
          0.9995935559272766,
          0.9977526664733887,
          1.0085028409957886,
          0.9811717867851257,
          0.9490344524383545,
          1.0040274858474731,
          0.9785434007644653,
          0.9733883738517761,
          1.0227580070495605,
          0.9764664173126221,
          0.9461627006530762,
          0.9991554021835327,
          0.9888914823532104,
          1.0008131265640259,
          0.9767032861709595,
          1.0007696151733398,
          0.9417665600776672,
          1.0118322372436523,
          1.0013426542282104,
          0.9995251893997192,
          1.0021871328353882,
          0.9995294213294983,
          0.9246894717216492,
          0.9816833734512329,
          0.9971680045127869,
          1.0004030466079712,
          0.9964609742164612,
          1.0009105205535889,
          0.9413076639175415,
          0.9899969100952148,
          0.9914988875389099,
          0.9886574149131775,
          0.998073399066925,
          0.9972780346870422,
          0.9878329634666443,
          1.0010802745819092,
          1.0015002489089966,
          1.0035529136657715,
          1.001880407333374,
          1.0184177160263062,
          0.942548394203186,
          0.9987723231315613,
          1.0959887504577637,
          1.190516710281372,
          0.9888674020767212,
          0.9998399019241333,
          1.0014870166778564,
          0.9996750950813293,
          0.9999510049819946,
          1.003762125968933,
          1.0002714395523071,
          1.0136443376541138,
          1.0007535219192505,
          1.0006358623504639,
          1.0257747173309326,
          1.0050938129425049,
          0.995202362537384,
          1.005998134613037,
          1.141878366470337,
          1.006148338317871,
          1.0268040895462036,
          0.9832201600074768,
          1.00761079788208,
          0.9190707206726074,
          1.01664137840271,
          0.9977219700813293,
          0.9523954391479492,
          0.9640544056892395,
          1.0400841236114502,
          0.9915525317192078,
          1.0383763313293457,
          1.0007109642028809,
          0.9633229374885559,
          1.0010582208633423,
          1.0110368728637695,
          1.003122329711914,
          1.017602801322937,
          0.9506761431694031,
          0.994467556476593,
          1.0004568099975586,
          0.8620874881744385,
          0.9065225720405579,
          1.0116641521453857,
          0.9997498393058777,
          1.0020718574523926,
          0.9618448615074158,
          0.9909738302230835,
          0.9799855947494507,
          1.0100706815719604,
          0.981141209602356,
          0.9998524188995361,
          0.983290433883667,
          0.9994472861289978,
          0.9969863295555115,
          1.000382661819458,
          0.9937348961830139,
          0.9985941052436829,
          0.966343104839325,
          1.0054365396499634,
          1.0486230850219727,
          1.0002809762954712,
          0.9996641874313354,
          0.995607316493988,
          1.011497139930725,
          0.9262039661407471,
          1.000065565109253,
          1.0298794507980347,
          1.0078917741775513,
          0.9851016402244568,
          1.0432382822036743,
          0.9787737131118774,
          0.9931228160858154,
          0.9991446137428284,
          1.0008964538574219,
          1.006190299987793,
          1.0060075521469116,
          1.0279371738433838,
          1.0001413822174072
         ],
         "xaxis": "x4",
         "yaxis": "y4"
        }
       ],
       "layout": {
        "annotations": [
         {
          "font": {
           "size": 16
          },
          "showarrow": false,
          "text": "attn_out",
          "x": 0.5,
          "xanchor": "center",
          "xref": "paper",
          "y": 1,
          "yanchor": "bottom",
          "yref": "paper"
         },
         {
          "font": {
           "size": 16
          },
          "showarrow": false,
          "text": "resid_mid",
          "x": 0.5,
          "xanchor": "center",
          "xref": "paper",
          "y": 0.71875,
          "yanchor": "bottom",
          "yref": "paper"
         },
         {
          "font": {
           "size": 16
          },
          "showarrow": false,
          "text": "mlp_out",
          "x": 0.5,
          "xanchor": "center",
          "xref": "paper",
          "y": 0.4375,
          "yanchor": "bottom",
          "yref": "paper"
         },
         {
          "font": {
           "size": 16
          },
          "showarrow": false,
          "text": "resid_post",
          "x": 0.5,
          "xanchor": "center",
          "xref": "paper",
          "y": 0.15625,
          "yanchor": "bottom",
          "yref": "paper"
         }
        ],
        "height": 1200,
        "template": {
         "data": {
          "bar": [
           {
            "error_x": {
             "color": "#2a3f5f"
            },
            "error_y": {
             "color": "#2a3f5f"
            },
            "marker": {
             "line": {
              "color": "#E5ECF6",
              "width": 0.5
             },
             "pattern": {
              "fillmode": "overlay",
              "size": 10,
              "solidity": 0.2
             }
            },
            "type": "bar"
           }
          ],
          "barpolar": [
           {
            "marker": {
             "line": {
              "color": "#E5ECF6",
              "width": 0.5
             },
             "pattern": {
              "fillmode": "overlay",
              "size": 10,
              "solidity": 0.2
             }
            },
            "type": "barpolar"
           }
          ],
          "carpet": [
           {
            "aaxis": {
             "endlinecolor": "#2a3f5f",
             "gridcolor": "white",
             "linecolor": "white",
             "minorgridcolor": "white",
             "startlinecolor": "#2a3f5f"
            },
            "baxis": {
             "endlinecolor": "#2a3f5f",
             "gridcolor": "white",
             "linecolor": "white",
             "minorgridcolor": "white",
             "startlinecolor": "#2a3f5f"
            },
            "type": "carpet"
           }
          ],
          "choropleth": [
           {
            "colorbar": {
             "outlinewidth": 0,
             "ticks": ""
            },
            "type": "choropleth"
           }
          ],
          "contour": [
           {
            "colorbar": {
             "outlinewidth": 0,
             "ticks": ""
            },
            "colorscale": [
             [
              0,
              "#0d0887"
             ],
             [
              0.1111111111111111,
              "#46039f"
             ],
             [
              0.2222222222222222,
              "#7201a8"
             ],
             [
              0.3333333333333333,
              "#9c179e"
             ],
             [
              0.4444444444444444,
              "#bd3786"
             ],
             [
              0.5555555555555556,
              "#d8576b"
             ],
             [
              0.6666666666666666,
              "#ed7953"
             ],
             [
              0.7777777777777778,
              "#fb9f3a"
             ],
             [
              0.8888888888888888,
              "#fdca26"
             ],
             [
              1,
              "#f0f921"
             ]
            ],
            "type": "contour"
           }
          ],
          "contourcarpet": [
           {
            "colorbar": {
             "outlinewidth": 0,
             "ticks": ""
            },
            "type": "contourcarpet"
           }
          ],
          "heatmap": [
           {
            "colorbar": {
             "outlinewidth": 0,
             "ticks": ""
            },
            "colorscale": [
             [
              0,
              "#0d0887"
             ],
             [
              0.1111111111111111,
              "#46039f"
             ],
             [
              0.2222222222222222,
              "#7201a8"
             ],
             [
              0.3333333333333333,
              "#9c179e"
             ],
             [
              0.4444444444444444,
              "#bd3786"
             ],
             [
              0.5555555555555556,
              "#d8576b"
             ],
             [
              0.6666666666666666,
              "#ed7953"
             ],
             [
              0.7777777777777778,
              "#fb9f3a"
             ],
             [
              0.8888888888888888,
              "#fdca26"
             ],
             [
              1,
              "#f0f921"
             ]
            ],
            "type": "heatmap"
           }
          ],
          "heatmapgl": [
           {
            "colorbar": {
             "outlinewidth": 0,
             "ticks": ""
            },
            "colorscale": [
             [
              0,
              "#0d0887"
             ],
             [
              0.1111111111111111,
              "#46039f"
             ],
             [
              0.2222222222222222,
              "#7201a8"
             ],
             [
              0.3333333333333333,
              "#9c179e"
             ],
             [
              0.4444444444444444,
              "#bd3786"
             ],
             [
              0.5555555555555556,
              "#d8576b"
             ],
             [
              0.6666666666666666,
              "#ed7953"
             ],
             [
              0.7777777777777778,
              "#fb9f3a"
             ],
             [
              0.8888888888888888,
              "#fdca26"
             ],
             [
              1,
              "#f0f921"
             ]
            ],
            "type": "heatmapgl"
           }
          ],
          "histogram": [
           {
            "marker": {
             "pattern": {
              "fillmode": "overlay",
              "size": 10,
              "solidity": 0.2
             }
            },
            "type": "histogram"
           }
          ],
          "histogram2d": [
           {
            "colorbar": {
             "outlinewidth": 0,
             "ticks": ""
            },
            "colorscale": [
             [
              0,
              "#0d0887"
             ],
             [
              0.1111111111111111,
              "#46039f"
             ],
             [
              0.2222222222222222,
              "#7201a8"
             ],
             [
              0.3333333333333333,
              "#9c179e"
             ],
             [
              0.4444444444444444,
              "#bd3786"
             ],
             [
              0.5555555555555556,
              "#d8576b"
             ],
             [
              0.6666666666666666,
              "#ed7953"
             ],
             [
              0.7777777777777778,
              "#fb9f3a"
             ],
             [
              0.8888888888888888,
              "#fdca26"
             ],
             [
              1,
              "#f0f921"
             ]
            ],
            "type": "histogram2d"
           }
          ],
          "histogram2dcontour": [
           {
            "colorbar": {
             "outlinewidth": 0,
             "ticks": ""
            },
            "colorscale": [
             [
              0,
              "#0d0887"
             ],
             [
              0.1111111111111111,
              "#46039f"
             ],
             [
              0.2222222222222222,
              "#7201a8"
             ],
             [
              0.3333333333333333,
              "#9c179e"
             ],
             [
              0.4444444444444444,
              "#bd3786"
             ],
             [
              0.5555555555555556,
              "#d8576b"
             ],
             [
              0.6666666666666666,
              "#ed7953"
             ],
             [
              0.7777777777777778,
              "#fb9f3a"
             ],
             [
              0.8888888888888888,
              "#fdca26"
             ],
             [
              1,
              "#f0f921"
             ]
            ],
            "type": "histogram2dcontour"
           }
          ],
          "mesh3d": [
           {
            "colorbar": {
             "outlinewidth": 0,
             "ticks": ""
            },
            "type": "mesh3d"
           }
          ],
          "parcoords": [
           {
            "line": {
             "colorbar": {
              "outlinewidth": 0,
              "ticks": ""
             }
            },
            "type": "parcoords"
           }
          ],
          "pie": [
           {
            "automargin": true,
            "type": "pie"
           }
          ],
          "scatter": [
           {
            "fillpattern": {
             "fillmode": "overlay",
             "size": 10,
             "solidity": 0.2
            },
            "type": "scatter"
           }
          ],
          "scatter3d": [
           {
            "line": {
             "colorbar": {
              "outlinewidth": 0,
              "ticks": ""
             }
            },
            "marker": {
             "colorbar": {
              "outlinewidth": 0,
              "ticks": ""
             }
            },
            "type": "scatter3d"
           }
          ],
          "scattercarpet": [
           {
            "marker": {
             "colorbar": {
              "outlinewidth": 0,
              "ticks": ""
             }
            },
            "type": "scattercarpet"
           }
          ],
          "scattergeo": [
           {
            "marker": {
             "colorbar": {
              "outlinewidth": 0,
              "ticks": ""
             }
            },
            "type": "scattergeo"
           }
          ],
          "scattergl": [
           {
            "marker": {
             "colorbar": {
              "outlinewidth": 0,
              "ticks": ""
             }
            },
            "type": "scattergl"
           }
          ],
          "scattermapbox": [
           {
            "marker": {
             "colorbar": {
              "outlinewidth": 0,
              "ticks": ""
             }
            },
            "type": "scattermapbox"
           }
          ],
          "scatterpolar": [
           {
            "marker": {
             "colorbar": {
              "outlinewidth": 0,
              "ticks": ""
             }
            },
            "type": "scatterpolar"
           }
          ],
          "scatterpolargl": [
           {
            "marker": {
             "colorbar": {
              "outlinewidth": 0,
              "ticks": ""
             }
            },
            "type": "scatterpolargl"
           }
          ],
          "scatterternary": [
           {
            "marker": {
             "colorbar": {
              "outlinewidth": 0,
              "ticks": ""
             }
            },
            "type": "scatterternary"
           }
          ],
          "surface": [
           {
            "colorbar": {
             "outlinewidth": 0,
             "ticks": ""
            },
            "colorscale": [
             [
              0,
              "#0d0887"
             ],
             [
              0.1111111111111111,
              "#46039f"
             ],
             [
              0.2222222222222222,
              "#7201a8"
             ],
             [
              0.3333333333333333,
              "#9c179e"
             ],
             [
              0.4444444444444444,
              "#bd3786"
             ],
             [
              0.5555555555555556,
              "#d8576b"
             ],
             [
              0.6666666666666666,
              "#ed7953"
             ],
             [
              0.7777777777777778,
              "#fb9f3a"
             ],
             [
              0.8888888888888888,
              "#fdca26"
             ],
             [
              1,
              "#f0f921"
             ]
            ],
            "type": "surface"
           }
          ],
          "table": [
           {
            "cells": {
             "fill": {
              "color": "#EBF0F8"
             },
             "line": {
              "color": "white"
             }
            },
            "header": {
             "fill": {
              "color": "#C8D4E3"
             },
             "line": {
              "color": "white"
             }
            },
            "type": "table"
           }
          ]
         },
         "layout": {
          "annotationdefaults": {
           "arrowcolor": "#2a3f5f",
           "arrowhead": 0,
           "arrowwidth": 1
          },
          "autotypenumbers": "strict",
          "coloraxis": {
           "colorbar": {
            "outlinewidth": 0,
            "ticks": ""
           }
          },
          "colorscale": {
           "diverging": [
            [
             0,
             "#8e0152"
            ],
            [
             0.1,
             "#c51b7d"
            ],
            [
             0.2,
             "#de77ae"
            ],
            [
             0.3,
             "#f1b6da"
            ],
            [
             0.4,
             "#fde0ef"
            ],
            [
             0.5,
             "#f7f7f7"
            ],
            [
             0.6,
             "#e6f5d0"
            ],
            [
             0.7,
             "#b8e186"
            ],
            [
             0.8,
             "#7fbc41"
            ],
            [
             0.9,
             "#4d9221"
            ],
            [
             1,
             "#276419"
            ]
           ],
           "sequential": [
            [
             0,
             "#0d0887"
            ],
            [
             0.1111111111111111,
             "#46039f"
            ],
            [
             0.2222222222222222,
             "#7201a8"
            ],
            [
             0.3333333333333333,
             "#9c179e"
            ],
            [
             0.4444444444444444,
             "#bd3786"
            ],
            [
             0.5555555555555556,
             "#d8576b"
            ],
            [
             0.6666666666666666,
             "#ed7953"
            ],
            [
             0.7777777777777778,
             "#fb9f3a"
            ],
            [
             0.8888888888888888,
             "#fdca26"
            ],
            [
             1,
             "#f0f921"
            ]
           ],
           "sequentialminus": [
            [
             0,
             "#0d0887"
            ],
            [
             0.1111111111111111,
             "#46039f"
            ],
            [
             0.2222222222222222,
             "#7201a8"
            ],
            [
             0.3333333333333333,
             "#9c179e"
            ],
            [
             0.4444444444444444,
             "#bd3786"
            ],
            [
             0.5555555555555556,
             "#d8576b"
            ],
            [
             0.6666666666666666,
             "#ed7953"
            ],
            [
             0.7777777777777778,
             "#fb9f3a"
            ],
            [
             0.8888888888888888,
             "#fdca26"
            ],
            [
             1,
             "#f0f921"
            ]
           ]
          },
          "colorway": [
           "#636efa",
           "#EF553B",
           "#00cc96",
           "#ab63fa",
           "#FFA15A",
           "#19d3f3",
           "#FF6692",
           "#B6E880",
           "#FF97FF",
           "#FECB52"
          ],
          "font": {
           "color": "#2a3f5f"
          },
          "geo": {
           "bgcolor": "white",
           "lakecolor": "white",
           "landcolor": "#E5ECF6",
           "showlakes": true,
           "showland": true,
           "subunitcolor": "white"
          },
          "hoverlabel": {
           "align": "left"
          },
          "hovermode": "closest",
          "mapbox": {
           "style": "light"
          },
          "paper_bgcolor": "white",
          "plot_bgcolor": "#E5ECF6",
          "polar": {
           "angularaxis": {
            "gridcolor": "white",
            "linecolor": "white",
            "ticks": ""
           },
           "bgcolor": "#E5ECF6",
           "radialaxis": {
            "gridcolor": "white",
            "linecolor": "white",
            "ticks": ""
           }
          },
          "scene": {
           "xaxis": {
            "backgroundcolor": "#E5ECF6",
            "gridcolor": "white",
            "gridwidth": 2,
            "linecolor": "white",
            "showbackground": true,
            "ticks": "",
            "zerolinecolor": "white"
           },
           "yaxis": {
            "backgroundcolor": "#E5ECF6",
            "gridcolor": "white",
            "gridwidth": 2,
            "linecolor": "white",
            "showbackground": true,
            "ticks": "",
            "zerolinecolor": "white"
           },
           "zaxis": {
            "backgroundcolor": "#E5ECF6",
            "gridcolor": "white",
            "gridwidth": 2,
            "linecolor": "white",
            "showbackground": true,
            "ticks": "",
            "zerolinecolor": "white"
           }
          },
          "shapedefaults": {
           "line": {
            "color": "#2a3f5f"
           }
          },
          "ternary": {
           "aaxis": {
            "gridcolor": "white",
            "linecolor": "white",
            "ticks": ""
           },
           "baxis": {
            "gridcolor": "white",
            "linecolor": "white",
            "ticks": ""
           },
           "bgcolor": "#E5ECF6",
           "caxis": {
            "gridcolor": "white",
            "linecolor": "white",
            "ticks": ""
           }
          },
          "title": {
           "x": 0.05
          },
          "xaxis": {
           "automargin": true,
           "gridcolor": "white",
           "linecolor": "white",
           "ticks": "",
           "title": {
            "standoff": 15
           },
           "zerolinecolor": "white",
           "zerolinewidth": 2
          },
          "yaxis": {
           "automargin": true,
           "gridcolor": "white",
           "linecolor": "white",
           "ticks": "",
           "title": {
            "standoff": 15
           },
           "zerolinecolor": "white",
           "zerolinewidth": 2
          }
         }
        },
        "title": {
         "text": "Ratio between norms of corrupted and clean activations (removed outliers above 2 n_features=3)"
        },
        "xaxis": {
         "anchor": "y",
         "domain": [
          0,
          1
         ],
         "title": {
          "text": "Relative difference"
         }
        },
        "xaxis2": {
         "anchor": "y2",
         "domain": [
          0,
          1
         ]
        },
        "xaxis3": {
         "anchor": "y3",
         "domain": [
          0,
          1
         ]
        },
        "xaxis4": {
         "anchor": "y4",
         "domain": [
          0,
          1
         ]
        },
        "yaxis": {
         "anchor": "x",
         "domain": [
          0.84375,
          1
         ],
         "title": {
          "text": "Probability"
         }
        },
        "yaxis2": {
         "anchor": "x2",
         "domain": [
          0.5625,
          0.71875
         ]
        },
        "yaxis3": {
         "anchor": "x3",
         "domain": [
          0.28125,
          0.4375
         ]
        },
        "yaxis4": {
         "anchor": "x4",
         "domain": [
          0,
          0.15625
         ]
        }
       }
      }
     },
     "metadata": {},
     "output_type": "display_data"
    }
   ],
   "source": [
    "test_post_ablation_norms(n_features=3)"
   ]
  },
  {
   "cell_type": "markdown",
   "metadata": {},
   "source": [
    "Conclusion: it looks like attn_out and resid_mid basically always have a lower norm (as expected), and mlp_out and resid_post sometimes end up larger, sometimes smaller, it's basically a coin-toss.\n",
    "\n",
    "What I wanna try next is what happens if you literally just rescale attn_out by a similar amount. What's the impact on the downstream hook point norms, on the downstream SAE activations, and the logits? How does that impact compare to ablation?"
   ]
  },
  {
   "cell_type": "code",
   "execution_count": null,
   "metadata": {},
   "outputs": [],
   "source": []
  }
 ],
 "metadata": {
  "kernelspec": {
   "display_name": "interp",
   "language": "python",
   "name": "python3"
  },
  "language_info": {
   "codemirror_mode": {
    "name": "ipython",
    "version": 3
   },
   "file_extension": ".py",
   "mimetype": "text/x-python",
   "name": "python",
   "nbconvert_exporter": "python",
   "pygments_lexer": "ipython3",
   "version": "3.10.13"
  }
 },
 "nbformat": 4,
 "nbformat_minor": 2
}
