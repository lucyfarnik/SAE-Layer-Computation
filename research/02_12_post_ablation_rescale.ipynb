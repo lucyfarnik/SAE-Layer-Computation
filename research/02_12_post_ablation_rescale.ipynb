{
 "cells": [
  {
   "cell_type": "markdown",
   "metadata": {},
   "source": [
    "# How to fix the norm and keep things in-distribution after you ablate SAE features\n",
    "Whenever I ablate an SAE feature (particularly in attn_out and mlp_out), that messes up the norm and takes the model off-distribution.\n",
    "I want to spend a little bit of time doing large-scale experiments to figure out what a good way to deal with this is."
   ]
  },
  {
   "cell_type": "code",
   "execution_count": null,
   "metadata": {},
   "outputs": [],
   "source": []
  }
 ],
 "metadata": {
  "language_info": {
   "name": "python"
  }
 },
 "nbformat": 4,
 "nbformat_minor": 2
}
